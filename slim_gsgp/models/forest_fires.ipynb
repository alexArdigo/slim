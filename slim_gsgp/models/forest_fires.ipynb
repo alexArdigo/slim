{
 "cells": [
  {
   "cell_type": "code",
   "execution_count": 1,
   "id": "initial_id",
   "metadata": {
    "ExecuteTime": {
     "end_time": "2025-07-23T13:10:18.704483Z",
     "start_time": "2025-07-23T13:10:00.238776Z"
    }
   },
   "outputs": [
    {
     "name": "stdout",
     "output_type": "stream",
     "text": [
      "Verbose Reporter\n",
      "-----------------------------------------------------------------------------------------------------------------------------------------\n",
      "|         Dataset         |  Generation  |     Train Fitness     |       Test Fitness       |        Timing          |      Nodes       |\n",
      "-----------------------------------------------------------------------------------------------------------------------------------------\n",
      "|     forest_fires        |       0      |   1.3508902788162231  |   1.481759786605835      |   0.01199793815612793  |      3           |\n",
      "|     forest_fires        |       1      |   1.3508902788162231  |   1.481759786605835      |   0.0060002803802490234|      3           |\n",
      "|     forest_fires        |       2      |   1.3508902788162231  |   1.481759786605835      |   0.0060007572174072266|      3           |\n",
      "|     forest_fires        |       3      |   1.3508902788162231  |   1.481759786605835      |   0.006999969482421875 |      3           |\n",
      "|     forest_fires        |       4      |   1.3508902788162231  |   1.481759786605835      |   0.005999326705932617 |      3           |\n",
      "|     forest_fires        |       5      |   1.3508902788162231  |   1.481759786605835      |   0.007999897003173828 |      3           |\n",
      "|     forest_fires        |       6      |   1.3464417457580566  |   1.477091908454895      |   0.00799870491027832  |      7           |\n",
      "|     forest_fires        |       7      |   1.3464417457580566  |   1.477091908454895      |   0.008995532989501953 |      7           |\n",
      "|     forest_fires        |       8      |   1.3464417457580566  |   1.477091908454895      |   0.01303720474243164  |      7           |\n",
      "|     forest_fires        |       9      |   1.3464417457580566  |   1.477091908454895      |   0.01299738883972168  |      7           |\n",
      "|     forest_fires        |       10     |   1.3464417457580566  |   1.477091908454895      |   0.012003898620605469 |      7           |\n",
      "|     forest_fires        |       11     |   1.3464417457580566  |   1.477091908454895      |   0.012995719909667969 |      7           |\n",
      "|     forest_fires        |       12     |   1.3464417457580566  |   1.477091908454895      |   0.01300191879272461  |      7           |\n",
      "|     forest_fires        |       13     |   1.3464417457580566  |   1.477091908454895      |   0.013999462127685547 |      7           |\n",
      "|     forest_fires        |       14     |   1.3464417457580566  |   1.477091908454895      |   0.013959407806396484 |      7           |\n",
      "|     forest_fires        |       15     |   1.3464417457580566  |   1.477091908454895      |   0.007999897003173828 |      7           |\n",
      "|     forest_fires        |       16     |   1.3464417457580566  |   1.477091908454895      |   0.010044574737548828 |      7           |\n",
      "|     forest_fires        |       17     |   1.3464417457580566  |   1.477091908454895      |   0.01098489761352539  |      7           |\n",
      "|     forest_fires        |       18     |   1.3464417457580566  |   1.477091908454895      |   0.010010480880737305 |      7           |\n",
      "|     forest_fires        |       19     |   1.3464417457580566  |   1.477091908454895      |   0.014038562774658203 |      7           |\n",
      "|     forest_fires        |       20     |   1.3464417457580566  |   1.477091908454895      |   0.010979652404785156 |      7           |\n",
      "|     forest_fires        |       21     |   1.3464417457580566  |   1.477091908454895      |   0.011008739471435547 |      7           |\n",
      "|     forest_fires        |       22     |   1.3464417457580566  |   1.477091908454895      |   0.020873308181762695 |      7           |\n",
      "|     forest_fires        |       23     |   1.3464417457580566  |   1.477091908454895      |   0.014031648635864258 |      7           |\n",
      "|     forest_fires        |       24     |   1.3464417457580566  |   1.477091908454895      |   0.012998819351196289 |      7           |\n",
      "|     forest_fires        |       25     |   1.3464417457580566  |   1.477091908454895      |   0.013998985290527344 |      7           |\n",
      "|     forest_fires        |       26     |   1.3464417457580566  |   1.477091908454895      |   0.011994123458862305 |      7           |\n",
      "|     forest_fires        |       27     |   1.3464417457580566  |   1.477091908454895      |   0.013005971908569336 |      7           |\n",
      "|     forest_fires        |       28     |   1.3464417457580566  |   1.477091908454895      |   0.009975910186767578 |      7           |\n",
      "|     forest_fires        |       29     |   1.3464417457580566  |   1.477091908454895      |   0.008002996444702148 |      7           |\n",
      "|     forest_fires        |       30     |   1.3464417457580566  |   1.477091908454895      |   0.009010076522827148 |      7           |\n",
      "|     forest_fires        |       31     |   1.3464417457580566  |   1.477091908454895      |   0.008042097091674805 |      7           |\n",
      "|     forest_fires        |       32     |   1.3464417457580566  |   1.477091908454895      |   0.008992433547973633 |      7           |\n",
      "|     forest_fires        |       33     |   1.3464417457580566  |   1.477091908454895      |   0.007963418960571289 |      7           |\n",
      "|     forest_fires        |       34     |   1.3464417457580566  |   1.477091908454895      |   0.00899815559387207  |      7           |\n",
      "|     forest_fires        |       35     |   1.3464417457580566  |   1.477091908454895      |   0.010039091110229492 |      7           |\n",
      "|     forest_fires        |       36     |   1.3464417457580566  |   1.477091908454895      |   0.008997440338134766 |      7           |\n",
      "|     forest_fires        |       37     |   1.3464417457580566  |   1.477091908454895      |   0.012000322341918945 |      7           |\n",
      "|     forest_fires        |       38     |   1.3464417457580566  |   1.477091908454895      |   0.018033266067504883 |      7           |\n",
      "|     forest_fires        |       39     |   1.3464417457580566  |   1.477091908454895      |   0.01305079460144043  |      7           |\n",
      "|     forest_fires        |       40     |   1.3464417457580566  |   1.477091908454895      |   0.011954784393310547 |      7           |\n",
      "|     forest_fires        |       41     |   1.3464417457580566  |   1.477091908454895      |   0.013044118881225586 |      7           |\n",
      "|     forest_fires        |       42     |   1.3464417457580566  |   1.477091908454895      |   0.01000356674194336  |      7           |\n",
      "|     forest_fires        |       43     |   1.3464417457580566  |   1.477091908454895      |   0.009999275207519531 |      7           |\n",
      "|     forest_fires        |       44     |   1.3464417457580566  |   1.477091908454895      |   0.011996746063232422 |      7           |\n",
      "|     forest_fires        |       45     |   1.3464417457580566  |   1.477091908454895      |   0.01199650764465332  |      7           |\n",
      "|     forest_fires        |       46     |   1.3464417457580566  |   1.477091908454895      |   0.013000965118408203 |      7           |\n",
      "|     forest_fires        |       47     |   1.3464417457580566  |   1.477091908454895      |   0.014003276824951172 |      7           |\n",
      "|     forest_fires        |       48     |   1.3464417457580566  |   1.477091908454895      |   0.01699995994567871  |      7           |\n",
      "|     forest_fires        |       49     |   1.3464417457580566  |   1.477091908454895      |   0.01799750328063965  |      7           |\n",
      "|     forest_fires        |       50     |   1.3464417457580566  |   1.477091908454895      |   0.017039060592651367 |      7           |\n",
      "|     forest_fires        |       51     |   1.3464417457580566  |   1.477091908454895      |   0.01600027084350586  |      7           |\n",
      "|     forest_fires        |       52     |   1.3464417457580566  |   1.477091908454895      |   0.01404261589050293  |      7           |\n",
      "|     forest_fires        |       53     |   1.3464417457580566  |   1.477091908454895      |   0.015004873275756836 |      7           |\n",
      "|     forest_fires        |       54     |   1.3464417457580566  |   1.477091908454895      |   0.014996051788330078 |      7           |\n",
      "|     forest_fires        |       55     |   1.3464417457580566  |   1.477091908454895      |   0.011021137237548828 |      7           |\n",
      "|     forest_fires        |       56     |   1.3464417457580566  |   1.477091908454895      |   0.011002779006958008 |      7           |\n",
      "|     forest_fires        |       57     |   1.3464417457580566  |   1.477091908454895      |   0.011002063751220703 |      7           |\n",
      "|     forest_fires        |       58     |   1.3464417457580566  |   1.477091908454895      |   0.009998083114624023 |      7           |\n",
      "|     forest_fires        |       59     |   1.3464417457580566  |   1.477091908454895      |   0.010002851486206055 |      7           |\n",
      "|     forest_fires        |       60     |   1.3464417457580566  |   1.477091908454895      |   0.009999990463256836 |      7           |\n",
      "|     forest_fires        |       61     |   1.3464417457580566  |   1.477091908454895      |   0.010992765426635742 |      7           |\n",
      "|     forest_fires        |       62     |   1.3464417457580566  |   1.477091908454895      |   0.008998394012451172 |      7           |\n",
      "|     forest_fires        |       63     |   1.3464417457580566  |   1.477091908454895      |   0.012959957122802734 |      7           |\n",
      "|     forest_fires        |       64     |   1.3464417457580566  |   1.477091908454895      |   0.01403665542602539  |      7           |\n",
      "|     forest_fires        |       65     |   1.3464417457580566  |   1.477091908454895      |   0.015005111694335938 |      7           |\n",
      "|     forest_fires        |       66     |   1.3464417457580566  |   1.477091908454895      |   0.020950794219970703 |      7           |\n",
      "|     forest_fires        |       67     |   1.3464417457580566  |   1.477091908454895      |   0.018990039825439453 |      7           |\n",
      "|     forest_fires        |       68     |   1.3464417457580566  |   1.477091908454895      |   0.020991086959838867 |      7           |\n",
      "|     forest_fires        |       69     |   1.3464417457580566  |   1.477091908454895      |   0.022003173828125    |      7           |\n",
      "|     forest_fires        |       70     |   1.3464417457580566  |   1.477091908454895      |   0.014004707336425781 |      7           |\n",
      "|     forest_fires        |       71     |   1.3464417457580566  |   1.477091908454895      |   0.015954971313476562 |      7           |\n",
      "|     forest_fires        |       72     |   1.3464417457580566  |   1.477091908454895      |   0.01999950408935547  |      7           |\n",
      "|     forest_fires        |       73     |   1.3464417457580566  |   1.477091908454895      |   0.022988557815551758 |      7           |\n",
      "|     forest_fires        |       74     |   1.3464417457580566  |   1.477091908454895      |   0.027898550033569336 |      7           |\n",
      "|     forest_fires        |       75     |   1.3464417457580566  |   1.477091908454895      |   0.03099989891052246  |      7           |\n",
      "|     forest_fires        |       76     |   1.3464417457580566  |   1.477091908454895      |   0.0230405330657959   |      7           |\n",
      "|     forest_fires        |       77     |   1.3464417457580566  |   1.477091908454895      |   0.019005537033081055 |      7           |\n",
      "|     forest_fires        |       78     |   1.3464417457580566  |   1.477091908454895      |   0.020954608917236328 |      7           |\n",
      "|     forest_fires        |       79     |   1.3464417457580566  |   1.477091908454895      |   0.01800251007080078  |      7           |\n",
      "|     forest_fires        |       80     |   1.3464417457580566  |   1.477091908454895      |   0.019999027252197266 |      7           |\n",
      "|     forest_fires        |       81     |   1.3464417457580566  |   1.477091908454895      |   0.021377086639404297 |      7           |\n",
      "|     forest_fires        |       82     |   1.3464417457580566  |   1.477091908454895      |   0.016987085342407227 |      7           |\n",
      "|     forest_fires        |       83     |   1.3464417457580566  |   1.477091908454895      |   0.01599907875061035  |      7           |\n",
      "|     forest_fires        |       84     |   1.3464417457580566  |   1.477091908454895      |   0.021046876907348633 |      7           |\n",
      "|     forest_fires        |       85     |   1.3464417457580566  |   1.477091908454895      |   0.018999576568603516 |      7           |\n",
      "|     forest_fires        |       86     |   1.3464417457580566  |   1.477091908454895      |   0.019992351531982422 |      7           |\n",
      "|     forest_fires        |       87     |   1.3464417457580566  |   1.477091908454895      |   0.019968509674072266 |      7           |\n",
      "|     forest_fires        |       88     |   1.3464417457580566  |   1.477091908454895      |   0.018025636672973633 |      7           |\n",
      "|     forest_fires        |       89     |   1.3464417457580566  |   1.477091908454895      |   0.0189969539642334   |      7           |\n",
      "|     forest_fires        |       90     |   1.3464417457580566  |   1.477091908454895      |   0.027035236358642578 |      7           |\n",
      "|     forest_fires        |       91     |   1.3464417457580566  |   1.477091908454895      |   0.02499675750732422  |      7           |\n",
      "|     forest_fires        |       92     |   1.3464417457580566  |   1.477091908454895      |   0.022028446197509766 |      7           |\n",
      "|     forest_fires        |       93     |   1.3464417457580566  |   1.477091908454895      |   0.022000551223754883 |      7           |\n",
      "|     forest_fires        |       94     |   1.3464417457580566  |   1.477091908454895      |   0.02200627326965332  |      7           |\n",
      "|     forest_fires        |       95     |   1.3464417457580566  |   1.477091908454895      |   0.02399444580078125  |      7           |\n",
      "|     forest_fires        |       96     |   1.3464417457580566  |   1.477091908454895      |   0.024996042251586914 |      7           |\n",
      "|     forest_fires        |       97     |   1.3464417457580566  |   1.477091908454895      |   0.021000146865844727 |      7           |\n",
      "|     forest_fires        |       98     |   1.3464417457580566  |   1.477091908454895      |   0.02499556541442871  |      7           |\n",
      "|     forest_fires        |       99     |   1.3464417457580566  |   1.477091908454895      |   0.020995378494262695 |      7           |\n",
      "|     forest_fires        |       100    |   1.3438812494277954  |   1.5334012508392334     |   0.021999359130859375 |      27          |\n",
      "multiply(\n",
      "  divide(\n",
      "    constant_2.0\n",
      "    add(\n",
      "      add(\n",
      "        x21\n",
      "        add(\n",
      "          x9\n",
      "          x9\n",
      "        )\n",
      "      )\n",
      "      add(\n",
      "        x21\n",
      "        add(\n",
      "          x9\n",
      "          x9\n",
      "        )\n",
      "      )\n",
      "    )\n",
      "  )\n",
      "  divide(\n",
      "    constant_2.0\n",
      "    add(\n",
      "      add(\n",
      "        x21\n",
      "        add(\n",
      "          x9\n",
      "          x9\n",
      "        )\n",
      "      )\n",
      "      add(\n",
      "        x21\n",
      "        add(\n",
      "          x9\n",
      "          x9\n",
      "        )\n",
      "      )\n",
      "    )\n",
      "  )\n",
      ")\n",
      "\n",
      "1.4752528667449951\n"
     ]
    }
   ],
   "source": [
    "import sys\n",
    "import os\n",
    "sys.path.append(os.path.abspath(r'C:\\Users\\Formando\\PycharmProjects\\slim'))\n",
    "\n",
    "from slim_gsgp.config.global_var import global_var\n",
    "from slim_gsgp.config.gp_config import *\n",
    "from slim_gsgp.main_gp import gp  # import the slim_gsgp library\n",
    "from slim_gsgp.datasets.data_loader import load_forest_fires  # import the loader for the dataset PPB\n",
    "from slim_gsgp.evaluators.fitness_functions import rmse  # import the rmse fitness metric\n",
    "from slim_gsgp.utils.utils import train_test_split  # import the train-test split function\n",
    "\n",
    "# Load the PPB dataset\n",
    "X, y = load_forest_fires(X_y=True)\n",
    "\n",
    "# Split into train and test sets\n",
    "X_train, X_test, y_train, y_test = train_test_split(X, y, p_test=0.4)\n",
    "\n",
    "# Split the test set into validation and test sets\n",
    "X_val, X_test, y_val, y_test = train_test_split(X_test, y_test, p_test=0.5)\n",
    "\n",
    "\n",
    "local_var = {\n",
    "    \"dataset_name\": \"forest_fires\",\n",
    "    \"pop_size\": 50, # size of the population of candidate solutions.\n",
    "    \"n_iter\": 100,\n",
    "    \"p_xo\": .9, # probability of applying the cross-over genetic operator to candidate solutions.\n",
    "    \"elitism\": True,\n",
    "    \"n_elites\": 1,\n",
    "    \"max_depth\": 7,\n",
    "    \"init_depth\": 4,\n",
    "    \"log_path\": \"./log/gp_forest_fires.csv\",\n",
    "    \"seed\": 1111,\n",
    "    \"log_level\": 2,\n",
    "    \"verbose\": 1,\n",
    "    \"minimization\": True,\n",
    "    \"fitness_function\": \"rmse\",\n",
    "    \"initializer\": \"grow\",\n",
    "    \"n_jobs\": 1,\n",
    "    \"prob_const\": .9,\n",
    "    \"tree_functions\": list(FUNCTIONS.keys()),\n",
    "    \"tree_constants\": [float(key.replace(\"constant_\", \"\").replace(\"_\", \"-\")) for key in CONSTANTS],\n",
    "    \"tournament_size\": 2,\n",
    "    \"test_elite\": True\n",
    "}\n",
    "\n",
    "# Apply the GP algorithm\n",
    "final_tree = gp(X_train=X_train, y_train=y_train,\n",
    "                X_test=X_val, y_test=y_val,\n",
    "                **local_var)\n",
    "\n",
    "# Show the best individual structure at the last generation\n",
    "final_tree.print_tree_representation()\n",
    "\n",
    "# Get the prediction of the best individual on the test set\n",
    "predictions = final_tree.predict(X_test)\n",
    "\n",
    "# Compute and print the RMSE on the test set\n",
    "print(float(rmse(y_true=y_test, y_pred=predictions)))"
   ]
  },
  {
   "cell_type": "code",
   "execution_count": 2,
   "id": "bc044422-aef7-4c38-b008-076a963b90e1",
   "metadata": {},
   "outputs": [
    {
     "data": {
      "application/vnd.plotly.v1+json": {
       "config": {
        "plotlyServerURL": "https://plot.ly"
       },
       "data": [
        {
         "line": {
          "color": "blue"
         },
         "mode": "lines",
         "name": "Train",
         "type": "scatter",
         "y": {
          "bdata": "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",
          "dtype": "f8"
         }
        },
        {
         "line": {
          "color": "orange"
         },
         "mode": "lines",
         "name": "Test",
         "type": "scatter",
         "y": {
          "bdata": "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",
          "dtype": "f8"
         }
        }
       ],
       "layout": {
        "height": 400,
        "margin": {
         "t": 50
        },
        "template": {
         "data": {
          "bar": [
           {
            "error_x": {
             "color": "#2a3f5f"
            },
            "error_y": {
             "color": "#2a3f5f"
            },
            "marker": {
             "line": {
              "color": "#E5ECF6",
              "width": 0.5
             },
             "pattern": {
              "fillmode": "overlay",
              "size": 10,
              "solidity": 0.2
             }
            },
            "type": "bar"
           }
          ],
          "barpolar": [
           {
            "marker": {
             "line": {
              "color": "#E5ECF6",
              "width": 0.5
             },
             "pattern": {
              "fillmode": "overlay",
              "size": 10,
              "solidity": 0.2
             }
            },
            "type": "barpolar"
           }
          ],
          "carpet": [
           {
            "aaxis": {
             "endlinecolor": "#2a3f5f",
             "gridcolor": "white",
             "linecolor": "white",
             "minorgridcolor": "white",
             "startlinecolor": "#2a3f5f"
            },
            "baxis": {
             "endlinecolor": "#2a3f5f",
             "gridcolor": "white",
             "linecolor": "white",
             "minorgridcolor": "white",
             "startlinecolor": "#2a3f5f"
            },
            "type": "carpet"
           }
          ],
          "choropleth": [
           {
            "colorbar": {
             "outlinewidth": 0,
             "ticks": ""
            },
            "type": "choropleth"
           }
          ],
          "contour": [
           {
            "colorbar": {
             "outlinewidth": 0,
             "ticks": ""
            },
            "colorscale": [
             [
              0,
              "#0d0887"
             ],
             [
              0.1111111111111111,
              "#46039f"
             ],
             [
              0.2222222222222222,
              "#7201a8"
             ],
             [
              0.3333333333333333,
              "#9c179e"
             ],
             [
              0.4444444444444444,
              "#bd3786"
             ],
             [
              0.5555555555555556,
              "#d8576b"
             ],
             [
              0.6666666666666666,
              "#ed7953"
             ],
             [
              0.7777777777777778,
              "#fb9f3a"
             ],
             [
              0.8888888888888888,
              "#fdca26"
             ],
             [
              1,
              "#f0f921"
             ]
            ],
            "type": "contour"
           }
          ],
          "contourcarpet": [
           {
            "colorbar": {
             "outlinewidth": 0,
             "ticks": ""
            },
            "type": "contourcarpet"
           }
          ],
          "heatmap": [
           {
            "colorbar": {
             "outlinewidth": 0,
             "ticks": ""
            },
            "colorscale": [
             [
              0,
              "#0d0887"
             ],
             [
              0.1111111111111111,
              "#46039f"
             ],
             [
              0.2222222222222222,
              "#7201a8"
             ],
             [
              0.3333333333333333,
              "#9c179e"
             ],
             [
              0.4444444444444444,
              "#bd3786"
             ],
             [
              0.5555555555555556,
              "#d8576b"
             ],
             [
              0.6666666666666666,
              "#ed7953"
             ],
             [
              0.7777777777777778,
              "#fb9f3a"
             ],
             [
              0.8888888888888888,
              "#fdca26"
             ],
             [
              1,
              "#f0f921"
             ]
            ],
            "type": "heatmap"
           }
          ],
          "histogram": [
           {
            "marker": {
             "pattern": {
              "fillmode": "overlay",
              "size": 10,
              "solidity": 0.2
             }
            },
            "type": "histogram"
           }
          ],
          "histogram2d": [
           {
            "colorbar": {
             "outlinewidth": 0,
             "ticks": ""
            },
            "colorscale": [
             [
              0,
              "#0d0887"
             ],
             [
              0.1111111111111111,
              "#46039f"
             ],
             [
              0.2222222222222222,
              "#7201a8"
             ],
             [
              0.3333333333333333,
              "#9c179e"
             ],
             [
              0.4444444444444444,
              "#bd3786"
             ],
             [
              0.5555555555555556,
              "#d8576b"
             ],
             [
              0.6666666666666666,
              "#ed7953"
             ],
             [
              0.7777777777777778,
              "#fb9f3a"
             ],
             [
              0.8888888888888888,
              "#fdca26"
             ],
             [
              1,
              "#f0f921"
             ]
            ],
            "type": "histogram2d"
           }
          ],
          "histogram2dcontour": [
           {
            "colorbar": {
             "outlinewidth": 0,
             "ticks": ""
            },
            "colorscale": [
             [
              0,
              "#0d0887"
             ],
             [
              0.1111111111111111,
              "#46039f"
             ],
             [
              0.2222222222222222,
              "#7201a8"
             ],
             [
              0.3333333333333333,
              "#9c179e"
             ],
             [
              0.4444444444444444,
              "#bd3786"
             ],
             [
              0.5555555555555556,
              "#d8576b"
             ],
             [
              0.6666666666666666,
              "#ed7953"
             ],
             [
              0.7777777777777778,
              "#fb9f3a"
             ],
             [
              0.8888888888888888,
              "#fdca26"
             ],
             [
              1,
              "#f0f921"
             ]
            ],
            "type": "histogram2dcontour"
           }
          ],
          "mesh3d": [
           {
            "colorbar": {
             "outlinewidth": 0,
             "ticks": ""
            },
            "type": "mesh3d"
           }
          ],
          "parcoords": [
           {
            "line": {
             "colorbar": {
              "outlinewidth": 0,
              "ticks": ""
             }
            },
            "type": "parcoords"
           }
          ],
          "pie": [
           {
            "automargin": true,
            "type": "pie"
           }
          ],
          "scatter": [
           {
            "fillpattern": {
             "fillmode": "overlay",
             "size": 10,
             "solidity": 0.2
            },
            "type": "scatter"
           }
          ],
          "scatter3d": [
           {
            "line": {
             "colorbar": {
              "outlinewidth": 0,
              "ticks": ""
             }
            },
            "marker": {
             "colorbar": {
              "outlinewidth": 0,
              "ticks": ""
             }
            },
            "type": "scatter3d"
           }
          ],
          "scattercarpet": [
           {
            "marker": {
             "colorbar": {
              "outlinewidth": 0,
              "ticks": ""
             }
            },
            "type": "scattercarpet"
           }
          ],
          "scattergeo": [
           {
            "marker": {
             "colorbar": {
              "outlinewidth": 0,
              "ticks": ""
             }
            },
            "type": "scattergeo"
           }
          ],
          "scattergl": [
           {
            "marker": {
             "colorbar": {
              "outlinewidth": 0,
              "ticks": ""
             }
            },
            "type": "scattergl"
           }
          ],
          "scattermap": [
           {
            "marker": {
             "colorbar": {
              "outlinewidth": 0,
              "ticks": ""
             }
            },
            "type": "scattermap"
           }
          ],
          "scattermapbox": [
           {
            "marker": {
             "colorbar": {
              "outlinewidth": 0,
              "ticks": ""
             }
            },
            "type": "scattermapbox"
           }
          ],
          "scatterpolar": [
           {
            "marker": {
             "colorbar": {
              "outlinewidth": 0,
              "ticks": ""
             }
            },
            "type": "scatterpolar"
           }
          ],
          "scatterpolargl": [
           {
            "marker": {
             "colorbar": {
              "outlinewidth": 0,
              "ticks": ""
             }
            },
            "type": "scatterpolargl"
           }
          ],
          "scatterternary": [
           {
            "marker": {
             "colorbar": {
              "outlinewidth": 0,
              "ticks": ""
             }
            },
            "type": "scatterternary"
           }
          ],
          "surface": [
           {
            "colorbar": {
             "outlinewidth": 0,
             "ticks": ""
            },
            "colorscale": [
             [
              0,
              "#0d0887"
             ],
             [
              0.1111111111111111,
              "#46039f"
             ],
             [
              0.2222222222222222,
              "#7201a8"
             ],
             [
              0.3333333333333333,
              "#9c179e"
             ],
             [
              0.4444444444444444,
              "#bd3786"
             ],
             [
              0.5555555555555556,
              "#d8576b"
             ],
             [
              0.6666666666666666,
              "#ed7953"
             ],
             [
              0.7777777777777778,
              "#fb9f3a"
             ],
             [
              0.8888888888888888,
              "#fdca26"
             ],
             [
              1,
              "#f0f921"
             ]
            ],
            "type": "surface"
           }
          ],
          "table": [
           {
            "cells": {
             "fill": {
              "color": "#EBF0F8"
             },
             "line": {
              "color": "white"
             }
            },
            "header": {
             "fill": {
              "color": "#C8D4E3"
             },
             "line": {
              "color": "white"
             }
            },
            "type": "table"
           }
          ]
         },
         "layout": {
          "annotationdefaults": {
           "arrowcolor": "#2a3f5f",
           "arrowhead": 0,
           "arrowwidth": 1
          },
          "autotypenumbers": "strict",
          "coloraxis": {
           "colorbar": {
            "outlinewidth": 0,
            "ticks": ""
           }
          },
          "colorscale": {
           "diverging": [
            [
             0,
             "#8e0152"
            ],
            [
             0.1,
             "#c51b7d"
            ],
            [
             0.2,
             "#de77ae"
            ],
            [
             0.3,
             "#f1b6da"
            ],
            [
             0.4,
             "#fde0ef"
            ],
            [
             0.5,
             "#f7f7f7"
            ],
            [
             0.6,
             "#e6f5d0"
            ],
            [
             0.7,
             "#b8e186"
            ],
            [
             0.8,
             "#7fbc41"
            ],
            [
             0.9,
             "#4d9221"
            ],
            [
             1,
             "#276419"
            ]
           ],
           "sequential": [
            [
             0,
             "#0d0887"
            ],
            [
             0.1111111111111111,
             "#46039f"
            ],
            [
             0.2222222222222222,
             "#7201a8"
            ],
            [
             0.3333333333333333,
             "#9c179e"
            ],
            [
             0.4444444444444444,
             "#bd3786"
            ],
            [
             0.5555555555555556,
             "#d8576b"
            ],
            [
             0.6666666666666666,
             "#ed7953"
            ],
            [
             0.7777777777777778,
             "#fb9f3a"
            ],
            [
             0.8888888888888888,
             "#fdca26"
            ],
            [
             1,
             "#f0f921"
            ]
           ],
           "sequentialminus": [
            [
             0,
             "#0d0887"
            ],
            [
             0.1111111111111111,
             "#46039f"
            ],
            [
             0.2222222222222222,
             "#7201a8"
            ],
            [
             0.3333333333333333,
             "#9c179e"
            ],
            [
             0.4444444444444444,
             "#bd3786"
            ],
            [
             0.5555555555555556,
             "#d8576b"
            ],
            [
             0.6666666666666666,
             "#ed7953"
            ],
            [
             0.7777777777777778,
             "#fb9f3a"
            ],
            [
             0.8888888888888888,
             "#fdca26"
            ],
            [
             1,
             "#f0f921"
            ]
           ]
          },
          "colorway": [
           "#636efa",
           "#EF553B",
           "#00cc96",
           "#ab63fa",
           "#FFA15A",
           "#19d3f3",
           "#FF6692",
           "#B6E880",
           "#FF97FF",
           "#FECB52"
          ],
          "font": {
           "color": "#2a3f5f"
          },
          "geo": {
           "bgcolor": "white",
           "lakecolor": "white",
           "landcolor": "#E5ECF6",
           "showlakes": true,
           "showland": true,
           "subunitcolor": "white"
          },
          "hoverlabel": {
           "align": "left"
          },
          "hovermode": "closest",
          "mapbox": {
           "style": "light"
          },
          "paper_bgcolor": "white",
          "plot_bgcolor": "#E5ECF6",
          "polar": {
           "angularaxis": {
            "gridcolor": "white",
            "linecolor": "white",
            "ticks": ""
           },
           "bgcolor": "#E5ECF6",
           "radialaxis": {
            "gridcolor": "white",
            "linecolor": "white",
            "ticks": ""
           }
          },
          "scene": {
           "xaxis": {
            "backgroundcolor": "#E5ECF6",
            "gridcolor": "white",
            "gridwidth": 2,
            "linecolor": "white",
            "showbackground": true,
            "ticks": "",
            "zerolinecolor": "white"
           },
           "yaxis": {
            "backgroundcolor": "#E5ECF6",
            "gridcolor": "white",
            "gridwidth": 2,
            "linecolor": "white",
            "showbackground": true,
            "ticks": "",
            "zerolinecolor": "white"
           },
           "zaxis": {
            "backgroundcolor": "#E5ECF6",
            "gridcolor": "white",
            "gridwidth": 2,
            "linecolor": "white",
            "showbackground": true,
            "ticks": "",
            "zerolinecolor": "white"
           }
          },
          "shapedefaults": {
           "line": {
            "color": "#2a3f5f"
           }
          },
          "ternary": {
           "aaxis": {
            "gridcolor": "white",
            "linecolor": "white",
            "ticks": ""
           },
           "baxis": {
            "gridcolor": "white",
            "linecolor": "white",
            "ticks": ""
           },
           "bgcolor": "#E5ECF6",
           "caxis": {
            "gridcolor": "white",
            "linecolor": "white",
            "ticks": ""
           }
          },
          "title": {
           "x": 0.05
          },
          "xaxis": {
           "automargin": true,
           "gridcolor": "white",
           "linecolor": "white",
           "ticks": "",
           "title": {
            "standoff": 15
           },
           "zerolinecolor": "white",
           "zerolinewidth": 2
          },
          "yaxis": {
           "automargin": true,
           "gridcolor": "white",
           "linecolor": "white",
           "ticks": "",
           "title": {
            "standoff": 15
           },
           "zerolinecolor": "white",
           "zerolinewidth": 2
          }
         }
        },
        "title": {
         "text": "GP - Train vs Test Fitness (forest_fires dataset)"
        },
        "width": 800,
        "xaxis": {
         "title": {
          "text": "Generation"
         }
        },
        "yaxis": {
         "range": [
          0,
          null
         ],
         "title": {
          "text": "RMSE"
         }
        }
       }
      },
      "image/png": "[encoded data removed]"
     },
     "metadata": {},
     "output_type": "display_data"
    }
   ],
   "source": [
    "import sys\n",
    "import os\n",
    "sys.path.append(os.path.abspath(r'C:\\Users\\Formando\\PycharmProjects\\slim'))\n",
    "from slim_gsgp.utils.graphic import build_graphic\n",
    "\n",
    "log_path = \"./log/gp_forest_fires.csv\"\n",
    "dataset_name = \"forest_fires\"\n",
    "build_graphic(log_path, dataset_name)"
   ]
  },
  {
   "cell_type": "code",
   "execution_count": null,
   "id": "d188bef4-b263-4237-a152-1e86f94521b8",
   "metadata": {},
   "outputs": [],
   "source": []
  }
 ],
 "metadata": {
  "kernelspec": {
   "display_name": "Python 3 (ipykernel)",
   "language": "python",
   "name": "python3"
  },
  "language_info": {
   "codemirror_mode": {
    "name": "ipython",
    "version": 3
   },
   "file_extension": ".py",
   "mimetype": "text/x-python",
   "name": "python",
   "nbconvert_exporter": "python",
   "pygments_lexer": "ipython3",
   "version": "3.12.1"
  }
 },
 "nbformat": 4,
 "nbformat_minor": 5
}
