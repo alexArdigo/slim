{
 "cells": [
  {
   "cell_type": "code",
   "execution_count": 2,
   "id": "initial_id",
   "metadata": {
    "ExecuteTime": {
     "end_time": "2025-07-23T13:10:18.704483Z",
     "start_time": "2025-07-23T13:10:00.238776Z"
    }
   },
   "outputs": [
    {
     "name": "stdout",
     "output_type": "stream",
     "text": [
      "Verbose Reporter\n",
      "-----------------------------------------------------------------------------------------------------------------------------------------\n",
      "|         Dataset         |  Generation  |     Train Fitness     |       Test Fitness       |        Timing          |      Nodes       |\n",
      "-----------------------------------------------------------------------------------------------------------------------------------------\n",
      "|     land_mines          |       0      |   1.4263529777526855  |   1.5194813013076782     |   0.01800060272216797  |      3           |\n",
      "|     land_mines          |       1      |   1.4263529777526855  |   1.5194813013076782     |   0.013001441955566406 |      3           |\n",
      "|     land_mines          |       2      |   1.4263529777526855  |   1.5194813013076782     |   0.009000301361083984 |      3           |\n",
      "|     land_mines          |       3      |   1.4263529777526855  |   1.5194813013076782     |   0.007993221282958984 |      3           |\n",
      "|     land_mines          |       4      |   1.4263529777526855  |   1.5194813013076782     |   0.009000062942504883 |      3           |\n",
      "|     land_mines          |       5      |   1.4263529777526855  |   1.5194813013076782     |   0.01099705696105957  |      3           |\n",
      "|     land_mines          |       6      |   1.4263529777526855  |   1.5194813013076782     |   0.010999679565429688 |      3           |\n",
      "|     land_mines          |       7      |   1.4263529777526855  |   1.5194813013076782     |   0.010999441146850586 |      3           |\n",
      "|     land_mines          |       8      |   1.4263529777526855  |   1.5194813013076782     |   0.013000726699829102 |      3           |\n",
      "|     land_mines          |       9      |   1.4263529777526855  |   1.5194813013076782     |   0.010999202728271484 |      3           |\n",
      "|     land_mines          |       10     |   1.4261698722839355  |   1.5154435634613037     |   0.010999202728271484 |      17          |\n",
      "|     land_mines          |       11     |   1.4261698722839355  |   1.5154435634613037     |   0.012998819351196289 |      17          |\n",
      "|     land_mines          |       12     |   1.4261667728424072  |   1.5162949562072754     |   0.011992931365966797 |      17          |\n",
      "|     land_mines          |       13     |   1.4261422157287598  |   1.5168421268463135     |   0.012999773025512695 |      17          |\n",
      "|     land_mines          |       14     |   1.4261422157287598  |   1.5168421268463135     |   0.01701188087463379  |      17          |\n",
      "|     land_mines          |       15     |   1.426119089126587   |   1.5160788297653198     |   0.020006656646728516 |      17          |\n",
      "|     land_mines          |       16     |   1.426119089126587   |   1.5160788297653198     |   0.017992258071899414 |      17          |\n",
      "|     land_mines          |       17     |   1.426119089126587   |   1.5160788297653198     |   0.01995849609375     |      17          |\n",
      "|     land_mines          |       18     |   1.426119089126587   |   1.5160788297653198     |   0.023030519485473633 |      17          |\n",
      "|     land_mines          |       19     |   1.4260317087173462  |   1.515825629234314      |   0.02004075050354004  |      15          |\n",
      "|     land_mines          |       20     |   1.4260317087173462  |   1.515825629234314      |   0.01804351806640625  |      15          |\n",
      "|     land_mines          |       21     |   1.4260317087173462  |   1.515825629234314      |   0.01597905158996582  |      15          |\n",
      "|     land_mines          |       22     |   1.4260317087173462  |   1.515825629234314      |   0.016999244689941406 |      15          |\n",
      "|     land_mines          |       23     |   1.4260317087173462  |   1.515825629234314      |   0.018996715545654297 |      15          |\n",
      "|     land_mines          |       24     |   1.4260317087173462  |   1.515825629234314      |   0.022977590560913086 |      15          |\n",
      "|     land_mines          |       25     |   1.4260317087173462  |   1.515825629234314      |   0.01800394058227539  |      15          |\n",
      "|     land_mines          |       26     |   1.4260317087173462  |   1.515825629234314      |   0.023957252502441406 |      15          |\n",
      "|     land_mines          |       27     |   1.4260317087173462  |   1.515825629234314      |   0.022008657455444336 |      15          |\n",
      "|     land_mines          |       28     |   1.4260317087173462  |   1.515825629234314      |   0.026827335357666016 |      15          |\n",
      "|     land_mines          |       29     |   1.4260317087173462  |   1.515825629234314      |   0.02702617645263672  |      15          |\n",
      "|     land_mines          |       30     |   1.4260317087173462  |   1.515825629234314      |   0.02401280403137207  |      15          |\n",
      "|     land_mines          |       31     |   1.4260317087173462  |   1.515825629234314      |   0.024956464767456055 |      15          |\n",
      "|     land_mines          |       32     |   1.4260317087173462  |   1.515825629234314      |   0.026041507720947266 |      15          |\n",
      "|     land_mines          |       33     |   1.4260317087173462  |   1.515825629234314      |   0.0309600830078125   |      15          |\n",
      "|     land_mines          |       34     |   1.4260317087173462  |   1.515825629234314      |   0.028037548065185547 |      15          |\n",
      "|     land_mines          |       35     |   1.4260317087173462  |   1.515825629234314      |   0.02804279327392578  |      15          |\n",
      "|     land_mines          |       36     |   1.4260317087173462  |   1.515825629234314      |   0.02398991584777832  |      15          |\n",
      "|     land_mines          |       37     |   1.4260317087173462  |   1.515825629234314      |   0.022004127502441406 |      15          |\n",
      "|     land_mines          |       38     |   1.4260317087173462  |   1.515825629234314      |   0.023007869720458984 |      15          |\n",
      "|     land_mines          |       39     |   1.4260317087173462  |   1.515825629234314      |   0.023999691009521484 |      15          |\n",
      "|     land_mines          |       40     |   1.4260317087173462  |   1.515825629234314      |   0.0240018367767334   |      15          |\n",
      "|     land_mines          |       41     |   1.4260317087173462  |   1.515825629234314      |   0.03800034523010254  |      15          |\n",
      "|     land_mines          |       42     |   1.4260317087173462  |   1.515825629234314      |   0.03255128860473633  |      15          |\n",
      "|     land_mines          |       43     |   1.4260317087173462  |   1.515825629234314      |   0.025017499923706055 |      15          |\n",
      "|     land_mines          |       44     |   1.4260317087173462  |   1.515825629234314      |   0.025005817413330078 |      15          |\n",
      "|     land_mines          |       45     |   1.4260317087173462  |   1.515825629234314      |   0.019995927810668945 |      15          |\n",
      "|     land_mines          |       46     |   1.4260317087173462  |   1.515825629234314      |   0.022038936614990234 |      15          |\n",
      "|     land_mines          |       47     |   1.4260317087173462  |   1.515825629234314      |   0.024001359939575195 |      15          |\n",
      "|     land_mines          |       48     |   1.4260317087173462  |   1.515825629234314      |   0.023957252502441406 |      15          |\n",
      "|     land_mines          |       49     |   1.4260317087173462  |   1.515825629234314      |   0.038002967834472656 |      15          |\n",
      "|     land_mines          |       50     |   1.4260317087173462  |   1.515825629234314      |   0.027008056640625    |      15          |\n",
      "|     land_mines          |       51     |   1.4260317087173462  |   1.515825629234314      |   0.028789758682250977 |      15          |\n",
      "|     land_mines          |       52     |   1.4260317087173462  |   1.515825629234314      |   0.026008129119873047 |      15          |\n",
      "|     land_mines          |       53     |   1.4260317087173462  |   1.515825629234314      |   0.03100109100341797  |      15          |\n",
      "|     land_mines          |       54     |   1.4260317087173462  |   1.515825629234314      |   0.024956941604614258 |      15          |\n",
      "|     land_mines          |       55     |   1.4260317087173462  |   1.515825629234314      |   0.023999452590942383 |      15          |\n",
      "|     land_mines          |       56     |   1.4260317087173462  |   1.515825629234314      |   0.02299952507019043  |      15          |\n",
      "|     land_mines          |       57     |   1.4260317087173462  |   1.515825629234314      |   0.020999670028686523 |      15          |\n",
      "|     land_mines          |       58     |   1.4260317087173462  |   1.515825629234314      |   0.025002241134643555 |      15          |\n",
      "|     land_mines          |       59     |   1.4260317087173462  |   1.515825629234314      |   0.023040056228637695 |      15          |\n",
      "|     land_mines          |       60     |   1.4260317087173462  |   1.515825629234314      |   0.02100086212158203  |      15          |\n",
      "|     land_mines          |       61     |   1.4260317087173462  |   1.515825629234314      |   0.02400064468383789  |      15          |\n",
      "|     land_mines          |       62     |   1.4260317087173462  |   1.515825629234314      |   0.020997047424316406 |      15          |\n",
      "|     land_mines          |       63     |   1.4260317087173462  |   1.515825629234314      |   0.021957874298095703 |      15          |\n",
      "|     land_mines          |       64     |   1.4260317087173462  |   1.515825629234314      |   0.023999929428100586 |      15          |\n",
      "|     land_mines          |       65     |   1.4260317087173462  |   1.515825629234314      |   0.021999597549438477 |      15          |\n",
      "|     land_mines          |       66     |   1.4260317087173462  |   1.515825629234314      |   0.018999099731445312 |      15          |\n",
      "|     land_mines          |       67     |   1.4260317087173462  |   1.515825629234314      |   0.023035049438476562 |      15          |\n",
      "|     land_mines          |       68     |   1.4260317087173462  |   1.515825629234314      |   0.025006532669067383 |      15          |\n",
      "|     land_mines          |       69     |   1.4260317087173462  |   1.515825629234314      |   0.023038864135742188 |      15          |\n",
      "|     land_mines          |       70     |   1.4260317087173462  |   1.515825629234314      |   0.030002593994140625 |      15          |\n",
      "|     land_mines          |       71     |   1.4260317087173462  |   1.515825629234314      |   0.029985666275024414 |      15          |\n",
      "|     land_mines          |       72     |   1.4260317087173462  |   1.515825629234314      |   0.03200173377990723  |      15          |\n",
      "|     land_mines          |       73     |   1.4260317087173462  |   1.515825629234314      |   0.025007247924804688 |      15          |\n",
      "|     land_mines          |       74     |   1.4260317087173462  |   1.515825629234314      |   0.02400350570678711  |      15          |\n",
      "|     land_mines          |       75     |   1.4260317087173462  |   1.515825629234314      |   0.025999784469604492 |      15          |\n",
      "|     land_mines          |       76     |   1.4260317087173462  |   1.515825629234314      |   0.022005558013916016 |      15          |\n",
      "|     land_mines          |       77     |   1.4260317087173462  |   1.515825629234314      |   0.021978139877319336 |      15          |\n",
      "|     land_mines          |       78     |   1.4260317087173462  |   1.515825629234314      |   0.023000478744506836 |      15          |\n",
      "|     land_mines          |       79     |   1.4260317087173462  |   1.515825629234314      |   0.026960134506225586 |      15          |\n",
      "|     land_mines          |       80     |   1.4260317087173462  |   1.515825629234314      |   0.02701258659362793  |      15          |\n",
      "|     land_mines          |       81     |   1.4260317087173462  |   1.515825629234314      |   0.024045228958129883 |      15          |\n",
      "|     land_mines          |       82     |   1.4260317087173462  |   1.515825629234314      |   0.026001453399658203 |      15          |\n",
      "|     land_mines          |       83     |   1.4260317087173462  |   1.515825629234314      |   0.026952743530273438 |      15          |\n",
      "|     land_mines          |       84     |   1.4260317087173462  |   1.515825629234314      |   0.02300548553466797  |      15          |\n",
      "|     land_mines          |       85     |   1.4260317087173462  |   1.515825629234314      |   0.022999286651611328 |      15          |\n",
      "|     land_mines          |       86     |   1.4260317087173462  |   1.515825629234314      |   0.022999048233032227 |      15          |\n",
      "|     land_mines          |       87     |   1.4260317087173462  |   1.515825629234314      |   0.02199840545654297  |      15          |\n",
      "|     land_mines          |       88     |   1.4260317087173462  |   1.515825629234314      |   0.023038625717163086 |      15          |\n",
      "|     land_mines          |       89     |   1.4260317087173462  |   1.515825629234314      |   0.026964187622070312 |      15          |\n",
      "|     land_mines          |       90     |   1.4260317087173462  |   1.515825629234314      |   0.02200150489807129  |      15          |\n",
      "|     land_mines          |       91     |   1.4260317087173462  |   1.515825629234314      |   0.020015478134155273 |      15          |\n",
      "|     land_mines          |       92     |   1.4260317087173462  |   1.515825629234314      |   0.025027036666870117 |      15          |\n",
      "|     land_mines          |       93     |   1.4260317087173462  |   1.515825629234314      |   0.022986412048339844 |      15          |\n",
      "|     land_mines          |       94     |   1.4260317087173462  |   1.515825629234314      |   0.02200031280517578  |      15          |\n",
      "|     land_mines          |       95     |   1.4260317087173462  |   1.515825629234314      |   0.023020505905151367 |      15          |\n",
      "|     land_mines          |       96     |   1.4260317087173462  |   1.515825629234314      |   0.023996829986572266 |      15          |\n",
      "|     land_mines          |       97     |   1.4260317087173462  |   1.515825629234314      |   0.022962570190429688 |      15          |\n",
      "|     land_mines          |       98     |   1.4260317087173462  |   1.515825629234314      |   0.021000385284423828 |      15          |\n",
      "|     land_mines          |       99     |   1.4260317087173462  |   1.515825629234314      |   0.021034955978393555 |      15          |\n",
      "|     land_mines          |       100    |   1.4260317087173462  |   1.515825629234314      |   0.016999483108520508 |      15          |\n",
      "add(\n",
      "  divide(\n",
      "    divide(\n",
      "      constant_3.0\n",
      "      subtract(\n",
      "        subtract(\n",
      "          constant_3.0\n",
      "          multiply(\n",
      "            constant_5.0\n",
      "            constant_5.0\n",
      "          )\n",
      "        )\n",
      "        multiply(\n",
      "          x2\n",
      "          constant_5.0\n",
      "        )\n",
      "      )\n",
      "    )\n",
      "    constant_3.0\n",
      "  )\n",
      "  constant_3.0\n",
      ")\n",
      "\n",
      "1.2822200059890747\n"
     ]
    }
   ],
   "source": [
    "import sys\n",
    "import os\n",
    "sys.path.append(os.path.abspath(r'C:\\Users\\Formando\\PycharmProjects\\slim'))\n",
    "\n",
    "from slim_gsgp.config.global_var import global_var\n",
    "from slim_gsgp.config.gp_config import *\n",
    "from slim_gsgp.main_gp import gp  # import the slim_gsgp library\n",
    "from slim_gsgp.datasets.data_loader import load_pandas_df  # import the loader for the dataset PPB\n",
    "import pandas as pd\n",
    "from slim_gsgp.evaluators.fitness_functions import rmse  # import the rmse fitness metric\n",
    "from slim_gsgp.utils.utils import train_test_split  # import the train-test split function\n",
    "\n",
    "# Reading the desired dataset\n",
    "df = pd.read_excel(\"../datasets/data/Mine_Dataset.xls\", 1)\n",
    "\n",
    "# Turning df into X and y torch.Tensors\n",
    "X, y = load_pandas_df(df, X_y=True)\n",
    "\n",
    "\n",
    "# Split into train and test sets\n",
    "X_train, X_test, y_train, y_test = train_test_split(X, y, p_test=0.4)\n",
    "\n",
    "# Split the test set into validation and test sets\n",
    "X_val, X_test, y_val, y_test = train_test_split(X_test, y_test, p_test=0.5)\n",
    "\n",
    "\n",
    "local_var = {\n",
    "    \"dataset_name\": \"land_mines\",\n",
    "    \"pop_size\": 50, # size of the population of candidate solutions.\n",
    "    \"n_iter\": 100,\n",
    "    \"p_xo\": .9, # probability of applying the cross-over genetic operator to candidate solutions.\n",
    "    \"elitism\": True,\n",
    "    \"n_elites\": 1,\n",
    "    \"max_depth\": 7,\n",
    "    \"init_depth\": 4,\n",
    "    \"log_path\": \"./log/gp_land_mines.csv\",\n",
    "    \"seed\": 111,\n",
    "    \"log_level\": 2,\n",
    "    \"verbose\": 1,\n",
    "    \"minimization\": True,\n",
    "    \"fitness_function\": \"rmse\",\n",
    "    \"initializer\": \"grow\",\n",
    "    \"n_jobs\": 1,\n",
    "    \"prob_const\": .9,\n",
    "    \"tree_functions\": list(FUNCTIONS.keys()),\n",
    "    \"tree_constants\": [float(key.replace(\"constant_\", \"\").replace(\"_\", \"-\")) for key in CONSTANTS],\n",
    "    \"tournament_size\": 2,\n",
    "    \"test_elite\": True\n",
    "}\n",
    "\n",
    "# Apply the GP algorithm\n",
    "final_tree = gp(X_train=X_train, y_train=y_train,\n",
    "                X_test=X_val, y_test=y_val,\n",
    "                **local_var)\n",
    "\n",
    "# Show the best individual structure at the last generation\n",
    "final_tree.print_tree_representation()\n",
    "\n",
    "# Get the prediction of the best individual on the test set\n",
    "predictions = final_tree.predict(X_test)\n",
    "\n",
    "# Compute and print the RMSE on the test set\n",
    "print(float(rmse(y_true=y_test, y_pred=predictions)))"
   ]
  },
  {
   "cell_type": "code",
   "execution_count": 3,
   "id": "bc044422-aef7-4c38-b008-076a963b90e1",
   "metadata": {},
   "outputs": [
    {
     "data": {
      "application/vnd.plotly.v1+json": {
       "config": {
        "plotlyServerURL": "https://plot.ly"
       },
       "data": [
        {
         "line": {
          "color": "blue"
         },
         "mode": "lines",
         "name": "Train",
         "type": "scatter",
         "y": {
          "bdata": "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",
          "dtype": "f8"
         }
        },
        {
         "line": {
          "color": "orange"
         },
         "mode": "lines",
         "name": "Test",
         "type": "scatter",
         "y": {
          "bdata": "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",
          "dtype": "f8"
         }
        }
       ],
       "layout": {
        "height": 400,
        "margin": {
         "t": 50
        },
        "template": {
         "data": {
          "bar": [
           {
            "error_x": {
             "color": "#2a3f5f"
            },
            "error_y": {
             "color": "#2a3f5f"
            },
            "marker": {
             "line": {
              "color": "#E5ECF6",
              "width": 0.5
             },
             "pattern": {
              "fillmode": "overlay",
              "size": 10,
              "solidity": 0.2
             }
            },
            "type": "bar"
           }
          ],
          "barpolar": [
           {
            "marker": {
             "line": {
              "color": "#E5ECF6",
              "width": 0.5
             },
             "pattern": {
              "fillmode": "overlay",
              "size": 10,
              "solidity": 0.2
             }
            },
            "type": "barpolar"
           }
          ],
          "carpet": [
           {
            "aaxis": {
             "endlinecolor": "#2a3f5f",
             "gridcolor": "white",
             "linecolor": "white",
             "minorgridcolor": "white",
             "startlinecolor": "#2a3f5f"
            },
            "baxis": {
             "endlinecolor": "#2a3f5f",
             "gridcolor": "white",
             "linecolor": "white",
             "minorgridcolor": "white",
             "startlinecolor": "#2a3f5f"
            },
            "type": "carpet"
           }
          ],
          "choropleth": [
           {
            "colorbar": {
             "outlinewidth": 0,
             "ticks": ""
            },
            "type": "choropleth"
           }
          ],
          "contour": [
           {
            "colorbar": {
             "outlinewidth": 0,
             "ticks": ""
            },
            "colorscale": [
             [
              0,
              "#0d0887"
             ],
             [
              0.1111111111111111,
              "#46039f"
             ],
             [
              0.2222222222222222,
              "#7201a8"
             ],
             [
              0.3333333333333333,
              "#9c179e"
             ],
             [
              0.4444444444444444,
              "#bd3786"
             ],
             [
              0.5555555555555556,
              "#d8576b"
             ],
             [
              0.6666666666666666,
              "#ed7953"
             ],
             [
              0.7777777777777778,
              "#fb9f3a"
             ],
             [
              0.8888888888888888,
              "#fdca26"
             ],
             [
              1,
              "#f0f921"
             ]
            ],
            "type": "contour"
           }
          ],
          "contourcarpet": [
           {
            "colorbar": {
             "outlinewidth": 0,
             "ticks": ""
            },
            "type": "contourcarpet"
           }
          ],
          "heatmap": [
           {
            "colorbar": {
             "outlinewidth": 0,
             "ticks": ""
            },
            "colorscale": [
             [
              0,
              "#0d0887"
             ],
             [
              0.1111111111111111,
              "#46039f"
             ],
             [
              0.2222222222222222,
              "#7201a8"
             ],
             [
              0.3333333333333333,
              "#9c179e"
             ],
             [
              0.4444444444444444,
              "#bd3786"
             ],
             [
              0.5555555555555556,
              "#d8576b"
             ],
             [
              0.6666666666666666,
              "#ed7953"
             ],
             [
              0.7777777777777778,
              "#fb9f3a"
             ],
             [
              0.8888888888888888,
              "#fdca26"
             ],
             [
              1,
              "#f0f921"
             ]
            ],
            "type": "heatmap"
           }
          ],
          "histogram": [
           {
            "marker": {
             "pattern": {
              "fillmode": "overlay",
              "size": 10,
              "solidity": 0.2
             }
            },
            "type": "histogram"
           }
          ],
          "histogram2d": [
           {
            "colorbar": {
             "outlinewidth": 0,
             "ticks": ""
            },
            "colorscale": [
             [
              0,
              "#0d0887"
             ],
             [
              0.1111111111111111,
              "#46039f"
             ],
             [
              0.2222222222222222,
              "#7201a8"
             ],
             [
              0.3333333333333333,
              "#9c179e"
             ],
             [
              0.4444444444444444,
              "#bd3786"
             ],
             [
              0.5555555555555556,
              "#d8576b"
             ],
             [
              0.6666666666666666,
              "#ed7953"
             ],
             [
              0.7777777777777778,
              "#fb9f3a"
             ],
             [
              0.8888888888888888,
              "#fdca26"
             ],
             [
              1,
              "#f0f921"
             ]
            ],
            "type": "histogram2d"
           }
          ],
          "histogram2dcontour": [
           {
            "colorbar": {
             "outlinewidth": 0,
             "ticks": ""
            },
            "colorscale": [
             [
              0,
              "#0d0887"
             ],
             [
              0.1111111111111111,
              "#46039f"
             ],
             [
              0.2222222222222222,
              "#7201a8"
             ],
             [
              0.3333333333333333,
              "#9c179e"
             ],
             [
              0.4444444444444444,
              "#bd3786"
             ],
             [
              0.5555555555555556,
              "#d8576b"
             ],
             [
              0.6666666666666666,
              "#ed7953"
             ],
             [
              0.7777777777777778,
              "#fb9f3a"
             ],
             [
              0.8888888888888888,
              "#fdca26"
             ],
             [
              1,
              "#f0f921"
             ]
            ],
            "type": "histogram2dcontour"
           }
          ],
          "mesh3d": [
           {
            "colorbar": {
             "outlinewidth": 0,
             "ticks": ""
            },
            "type": "mesh3d"
           }
          ],
          "parcoords": [
           {
            "line": {
             "colorbar": {
              "outlinewidth": 0,
              "ticks": ""
             }
            },
            "type": "parcoords"
           }
          ],
          "pie": [
           {
            "automargin": true,
            "type": "pie"
           }
          ],
          "scatter": [
           {
            "fillpattern": {
             "fillmode": "overlay",
             "size": 10,
             "solidity": 0.2
            },
            "type": "scatter"
           }
          ],
          "scatter3d": [
           {
            "line": {
             "colorbar": {
              "outlinewidth": 0,
              "ticks": ""
             }
            },
            "marker": {
             "colorbar": {
              "outlinewidth": 0,
              "ticks": ""
             }
            },
            "type": "scatter3d"
           }
          ],
          "scattercarpet": [
           {
            "marker": {
             "colorbar": {
              "outlinewidth": 0,
              "ticks": ""
             }
            },
            "type": "scattercarpet"
           }
          ],
          "scattergeo": [
           {
            "marker": {
             "colorbar": {
              "outlinewidth": 0,
              "ticks": ""
             }
            },
            "type": "scattergeo"
           }
          ],
          "scattergl": [
           {
            "marker": {
             "colorbar": {
              "outlinewidth": 0,
              "ticks": ""
             }
            },
            "type": "scattergl"
           }
          ],
          "scattermap": [
           {
            "marker": {
             "colorbar": {
              "outlinewidth": 0,
              "ticks": ""
             }
            },
            "type": "scattermap"
           }
          ],
          "scattermapbox": [
           {
            "marker": {
             "colorbar": {
              "outlinewidth": 0,
              "ticks": ""
             }
            },
            "type": "scattermapbox"
           }
          ],
          "scatterpolar": [
           {
            "marker": {
             "colorbar": {
              "outlinewidth": 0,
              "ticks": ""
             }
            },
            "type": "scatterpolar"
           }
          ],
          "scatterpolargl": [
           {
            "marker": {
             "colorbar": {
              "outlinewidth": 0,
              "ticks": ""
             }
            },
            "type": "scatterpolargl"
           }
          ],
          "scatterternary": [
           {
            "marker": {
             "colorbar": {
              "outlinewidth": 0,
              "ticks": ""
             }
            },
            "type": "scatterternary"
           }
          ],
          "surface": [
           {
            "colorbar": {
             "outlinewidth": 0,
             "ticks": ""
            },
            "colorscale": [
             [
              0,
              "#0d0887"
             ],
             [
              0.1111111111111111,
              "#46039f"
             ],
             [
              0.2222222222222222,
              "#7201a8"
             ],
             [
              0.3333333333333333,
              "#9c179e"
             ],
             [
              0.4444444444444444,
              "#bd3786"
             ],
             [
              0.5555555555555556,
              "#d8576b"
             ],
             [
              0.6666666666666666,
              "#ed7953"
             ],
             [
              0.7777777777777778,
              "#fb9f3a"
             ],
             [
              0.8888888888888888,
              "#fdca26"
             ],
             [
              1,
              "#f0f921"
             ]
            ],
            "type": "surface"
           }
          ],
          "table": [
           {
            "cells": {
             "fill": {
              "color": "#EBF0F8"
             },
             "line": {
              "color": "white"
             }
            },
            "header": {
             "fill": {
              "color": "#C8D4E3"
             },
             "line": {
              "color": "white"
             }
            },
            "type": "table"
           }
          ]
         },
         "layout": {
          "annotationdefaults": {
           "arrowcolor": "#2a3f5f",
           "arrowhead": 0,
           "arrowwidth": 1
          },
          "autotypenumbers": "strict",
          "coloraxis": {
           "colorbar": {
            "outlinewidth": 0,
            "ticks": ""
           }
          },
          "colorscale": {
           "diverging": [
            [
             0,
             "#8e0152"
            ],
            [
             0.1,
             "#c51b7d"
            ],
            [
             0.2,
             "#de77ae"
            ],
            [
             0.3,
             "#f1b6da"
            ],
            [
             0.4,
             "#fde0ef"
            ],
            [
             0.5,
             "#f7f7f7"
            ],
            [
             0.6,
             "#e6f5d0"
            ],
            [
             0.7,
             "#b8e186"
            ],
            [
             0.8,
             "#7fbc41"
            ],
            [
             0.9,
             "#4d9221"
            ],
            [
             1,
             "#276419"
            ]
           ],
           "sequential": [
            [
             0,
             "#0d0887"
            ],
            [
             0.1111111111111111,
             "#46039f"
            ],
            [
             0.2222222222222222,
             "#7201a8"
            ],
            [
             0.3333333333333333,
             "#9c179e"
            ],
            [
             0.4444444444444444,
             "#bd3786"
            ],
            [
             0.5555555555555556,
             "#d8576b"
            ],
            [
             0.6666666666666666,
             "#ed7953"
            ],
            [
             0.7777777777777778,
             "#fb9f3a"
            ],
            [
             0.8888888888888888,
             "#fdca26"
            ],
            [
             1,
             "#f0f921"
            ]
           ],
           "sequentialminus": [
            [
             0,
             "#0d0887"
            ],
            [
             0.1111111111111111,
             "#46039f"
            ],
            [
             0.2222222222222222,
             "#7201a8"
            ],
            [
             0.3333333333333333,
             "#9c179e"
            ],
            [
             0.4444444444444444,
             "#bd3786"
            ],
            [
             0.5555555555555556,
             "#d8576b"
            ],
            [
             0.6666666666666666,
             "#ed7953"
            ],
            [
             0.7777777777777778,
             "#fb9f3a"
            ],
            [
             0.8888888888888888,
             "#fdca26"
            ],
            [
             1,
             "#f0f921"
            ]
           ]
          },
          "colorway": [
           "#636efa",
           "#EF553B",
           "#00cc96",
           "#ab63fa",
           "#FFA15A",
           "#19d3f3",
           "#FF6692",
           "#B6E880",
           "#FF97FF",
           "#FECB52"
          ],
          "font": {
           "color": "#2a3f5f"
          },
          "geo": {
           "bgcolor": "white",
           "lakecolor": "white",
           "landcolor": "#E5ECF6",
           "showlakes": true,
           "showland": true,
           "subunitcolor": "white"
          },
          "hoverlabel": {
           "align": "left"
          },
          "hovermode": "closest",
          "mapbox": {
           "style": "light"
          },
          "paper_bgcolor": "white",
          "plot_bgcolor": "#E5ECF6",
          "polar": {
           "angularaxis": {
            "gridcolor": "white",
            "linecolor": "white",
            "ticks": ""
           },
           "bgcolor": "#E5ECF6",
           "radialaxis": {
            "gridcolor": "white",
            "linecolor": "white",
            "ticks": ""
           }
          },
          "scene": {
           "xaxis": {
            "backgroundcolor": "#E5ECF6",
            "gridcolor": "white",
            "gridwidth": 2,
            "linecolor": "white",
            "showbackground": true,
            "ticks": "",
            "zerolinecolor": "white"
           },
           "yaxis": {
            "backgroundcolor": "#E5ECF6",
            "gridcolor": "white",
            "gridwidth": 2,
            "linecolor": "white",
            "showbackground": true,
            "ticks": "",
            "zerolinecolor": "white"
           },
           "zaxis": {
            "backgroundcolor": "#E5ECF6",
            "gridcolor": "white",
            "gridwidth": 2,
            "linecolor": "white",
            "showbackground": true,
            "ticks": "",
            "zerolinecolor": "white"
           }
          },
          "shapedefaults": {
           "line": {
            "color": "#2a3f5f"
           }
          },
          "ternary": {
           "aaxis": {
            "gridcolor": "white",
            "linecolor": "white",
            "ticks": ""
           },
           "baxis": {
            "gridcolor": "white",
            "linecolor": "white",
            "ticks": ""
           },
           "bgcolor": "#E5ECF6",
           "caxis": {
            "gridcolor": "white",
            "linecolor": "white",
            "ticks": ""
           }
          },
          "title": {
           "x": 0.05
          },
          "xaxis": {
           "automargin": true,
           "gridcolor": "white",
           "linecolor": "white",
           "ticks": "",
           "title": {
            "standoff": 15
           },
           "zerolinecolor": "white",
           "zerolinewidth": 2
          },
          "yaxis": {
           "automargin": true,
           "gridcolor": "white",
           "linecolor": "white",
           "ticks": "",
           "title": {
            "standoff": 15
           },
           "zerolinecolor": "white",
           "zerolinewidth": 2
          }
         }
        },
        "title": {
         "text": "GP - Train vs Test Fitness (land_mines dataset)"
        },
        "width": 800,
        "xaxis": {
         "title": {
          "text": "Generation"
         }
        },
        "yaxis": {
         "range": [
          0,
          null
         ],
         "title": {
          "text": "RMSE"
         }
        }
       }
      },
      "image/png": "[encoded data removed]"
     },
     "metadata": {},
     "output_type": "display_data"
    }
   ],
   "source": [
    "import sys\n",
    "import os\n",
    "sys.path.append(os.path.abspath(r'C:\\Users\\Formando\\PycharmProjects\\slim'))\n",
    "from slim_gsgp.utils.graphic import build_graphic\n",
    "\n",
    "log_path = \"./log/gp_land_mines.csv\"\n",
    "dataset_name = \"land_mines\"\n",
    "build_graphic(log_path, dataset_name)"
   ]
  },
  {
   "cell_type": "code",
   "execution_count": null,
   "id": "d188bef4-b263-4237-a152-1e86f94521b8",
   "metadata": {},
   "outputs": [],
   "source": []
  }
 ],
 "metadata": {
  "kernelspec": {
   "display_name": "Python 3 (ipykernel)",
   "language": "python",
   "name": "python3"
  },
  "language_info": {
   "codemirror_mode": {
    "name": "ipython",
    "version": 3
   },
   "file_extension": ".py",
   "mimetype": "text/x-python",
   "name": "python",
   "nbconvert_exporter": "python",
   "pygments_lexer": "ipython3",
   "version": "3.12.1"
  }
 },
 "nbformat": 4,
 "nbformat_minor": 5
}
