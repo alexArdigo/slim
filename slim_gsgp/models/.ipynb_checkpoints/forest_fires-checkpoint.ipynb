{
 "cells": [
  {
   "cell_type": "code",
   "execution_count": 1,
   "id": "initial_id",
   "metadata": {
    "ExecuteTime": {
     "end_time": "2025-07-23T13:10:18.704483Z",
     "start_time": "2025-07-23T13:10:00.238776Z"
    }
   },
   "outputs": [
    {
     "name": "stdout",
     "output_type": "stream",
     "text": [
      "Verbose Reporter\n",
      "-----------------------------------------------------------------------------------------------------------------------------------------\n",
      "|         Dataset         |  Generation  |     Train Fitness     |       Test Fitness       |        Timing          |      Nodes       |\n",
      "-----------------------------------------------------------------------------------------------------------------------------------------\n",
      "|     forest_fires        |       0      |   1.3508902788162231  |   1.481759786605835      |   0.06100058555603027  |      3           |\n",
      "|     forest_fires        |       1      |   1.3508902788162231  |   1.481759786605835      |   0.015996694564819336 |      3           |\n",
      "|     forest_fires        |       2      |   1.3508902788162231  |   1.481759786605835      |   0.014998674392700195 |      3           |\n",
      "|     forest_fires        |       3      |   1.3508902788162231  |   1.481759786605835      |   0.01899862289428711  |      3           |\n",
      "|     forest_fires        |       4      |   1.3508902788162231  |   1.481759786605835      |   0.018999099731445312 |      3           |\n",
      "|     forest_fires        |       5      |   1.3508902788162231  |   1.481759786605835      |   0.01999831199645996  |      3           |\n",
      "|     forest_fires        |       6      |   1.3464417457580566  |   1.477091908454895      |   0.018003225326538086 |      7           |\n",
      "|     forest_fires        |       7      |   1.3464417457580566  |   1.477091908454895      |   0.013998985290527344 |      7           |\n",
      "|     forest_fires        |       8      |   1.3464417457580566  |   1.477091908454895      |   0.02399158477783203  |      7           |\n",
      "|     forest_fires        |       9      |   1.3464417457580566  |   1.477091908454895      |   0.01900506019592285  |      7           |\n",
      "|     forest_fires        |       10     |   1.3464417457580566  |   1.477091908454895      |   0.027837514877319336 |      7           |\n",
      "|     forest_fires        |       11     |   1.3464417457580566  |   1.477091908454895      |   0.019995689392089844 |      7           |\n",
      "|     forest_fires        |       12     |   1.3464417457580566  |   1.477091908454895      |   0.022975444793701172 |      7           |\n",
      "|     forest_fires        |       13     |   1.3464417457580566  |   1.477091908454895      |   0.024004697799682617 |      7           |\n",
      "|     forest_fires        |       14     |   1.3464417457580566  |   1.477091908454895      |   0.024004697799682617 |      7           |\n",
      "|     forest_fires        |       15     |   1.3464417457580566  |   1.477091908454895      |   0.024002552032470703 |      7           |\n",
      "|     forest_fires        |       16     |   1.3464417457580566  |   1.477091908454895      |   0.023000478744506836 |      7           |\n",
      "|     forest_fires        |       17     |   1.3464417457580566  |   1.477091908454895      |   0.026990652084350586 |      7           |\n",
      "|     forest_fires        |       18     |   1.3464417457580566  |   1.477091908454895      |   0.02700662612915039  |      7           |\n",
      "|     forest_fires        |       19     |   1.3464417457580566  |   1.477091908454895      |   0.022998809814453125 |      7           |\n",
      "|     forest_fires        |       20     |   1.3464417457580566  |   1.477091908454895      |   0.03399825096130371  |      7           |\n",
      "|     forest_fires        |       21     |   1.3464417457580566  |   1.477091908454895      |   0.0330047607421875   |      7           |\n",
      "|     forest_fires        |       22     |   1.3464417457580566  |   1.477091908454895      |   0.03699946403503418  |      7           |\n",
      "|     forest_fires        |       23     |   1.3464417457580566  |   1.477091908454895      |   0.03999781608581543  |      7           |\n",
      "|     forest_fires        |       24     |   1.3464417457580566  |   1.477091908454895      |   0.027997255325317383 |      7           |\n",
      "|     forest_fires        |       25     |   1.3464417457580566  |   1.477091908454895      |   0.03600597381591797  |      7           |\n",
      "|     forest_fires        |       26     |   1.3464417457580566  |   1.477091908454895      |   0.024001598358154297 |      7           |\n",
      "|     forest_fires        |       27     |   1.3464417457580566  |   1.477091908454895      |   0.029006004333496094 |      7           |\n",
      "|     forest_fires        |       28     |   1.3464417457580566  |   1.477091908454895      |   0.024003028869628906 |      7           |\n",
      "|     forest_fires        |       29     |   1.3464417457580566  |   1.477091908454895      |   0.023006916046142578 |      7           |\n",
      "|     forest_fires        |       30     |   1.3464417457580566  |   1.477091908454895      |   0.026000022888183594 |      7           |\n",
      "|     forest_fires        |       31     |   1.3464417457580566  |   1.477091908454895      |   0.019995927810668945 |      7           |\n",
      "|     forest_fires        |       32     |   1.3464417457580566  |   1.477091908454895      |   0.027432918548583984 |      7           |\n",
      "|     forest_fires        |       33     |   1.3464417457580566  |   1.477091908454895      |   0.019999265670776367 |      7           |\n",
      "|     forest_fires        |       34     |   1.3464417457580566  |   1.477091908454895      |   0.018997907638549805 |      7           |\n",
      "|     forest_fires        |       35     |   1.3464417457580566  |   1.477091908454895      |   0.026000261306762695 |      7           |\n",
      "|     forest_fires        |       36     |   1.3464417457580566  |   1.477091908454895      |   0.028998851776123047 |      7           |\n",
      "|     forest_fires        |       37     |   1.3464417457580566  |   1.477091908454895      |   0.03999829292297363  |      7           |\n",
      "|     forest_fires        |       38     |   1.3464417457580566  |   1.477091908454895      |   0.03900289535522461  |      7           |\n",
      "|     forest_fires        |       39     |   1.3464417457580566  |   1.477091908454895      |   0.03300023078918457  |      7           |\n",
      "|     forest_fires        |       40     |   1.3464417457580566  |   1.477091908454895      |   0.024001359939575195 |      7           |\n",
      "|     forest_fires        |       41     |   1.3464417457580566  |   1.477091908454895      |   0.029541969299316406 |      7           |\n",
      "|     forest_fires        |       42     |   1.3464417457580566  |   1.477091908454895      |   0.019989967346191406 |      7           |\n",
      "|     forest_fires        |       43     |   1.3464417457580566  |   1.477091908454895      |   0.020996809005737305 |      7           |\n",
      "|     forest_fires        |       44     |   1.3464417457580566  |   1.477091908454895      |   0.026003360748291016 |      7           |\n",
      "|     forest_fires        |       45     |   1.3464417457580566  |   1.477091908454895      |   0.024003267288208008 |      7           |\n",
      "|     forest_fires        |       46     |   1.3464417457580566  |   1.477091908454895      |   0.033997535705566406 |      7           |\n",
      "|     forest_fires        |       47     |   1.3464417457580566  |   1.477091908454895      |   0.03500080108642578  |      7           |\n",
      "|     forest_fires        |       48     |   1.3464417457580566  |   1.477091908454895      |   0.025997400283813477 |      7           |\n",
      "|     forest_fires        |       49     |   1.3464417457580566  |   1.477091908454895      |   0.0319972038269043   |      7           |\n",
      "|     forest_fires        |       50     |   1.3464417457580566  |   1.477091908454895      |   0.03300023078918457  |      7           |\n",
      "|     forest_fires        |       51     |   1.3464417457580566  |   1.477091908454895      |   0.030998945236206055 |      7           |\n",
      "|     forest_fires        |       52     |   1.3464417457580566  |   1.477091908454895      |   0.03400421142578125  |      7           |\n",
      "|     forest_fires        |       53     |   1.3464417457580566  |   1.477091908454895      |   0.03503847122192383  |      7           |\n",
      "|     forest_fires        |       54     |   1.3464417457580566  |   1.477091908454895      |   0.03798675537109375  |      7           |\n",
      "|     forest_fires        |       55     |   1.3464417457580566  |   1.477091908454895      |   0.02903294563293457  |      7           |\n",
      "|     forest_fires        |       56     |   1.3464417457580566  |   1.477091908454895      |   0.03199434280395508  |      7           |\n",
      "|     forest_fires        |       57     |   1.3464417457580566  |   1.477091908454895      |   0.028997421264648438 |      7           |\n",
      "|     forest_fires        |       58     |   1.3464417457580566  |   1.477091908454895      |   0.02899765968322754  |      7           |\n",
      "|     forest_fires        |       59     |   1.3464417457580566  |   1.477091908454895      |   0.03700423240661621  |      7           |\n",
      "|     forest_fires        |       60     |   1.3464417457580566  |   1.477091908454895      |   0.028989791870117188 |      7           |\n",
      "|     forest_fires        |       61     |   1.3464417457580566  |   1.477091908454895      |   0.0440065860748291   |      7           |\n",
      "|     forest_fires        |       62     |   1.3464417457580566  |   1.477091908454895      |   0.05099916458129883  |      7           |\n",
      "|     forest_fires        |       63     |   1.3464417457580566  |   1.477091908454895      |   0.025999069213867188 |      7           |\n",
      "|     forest_fires        |       64     |   1.3464417457580566  |   1.477091908454895      |   0.03200173377990723  |      7           |\n",
      "|     forest_fires        |       65     |   1.3464417457580566  |   1.477091908454895      |   0.040994882583618164 |      7           |\n",
      "|     forest_fires        |       66     |   1.3464417457580566  |   1.477091908454895      |   0.0489954948425293   |      7           |\n",
      "|     forest_fires        |       67     |   1.3464417457580566  |   1.477091908454895      |   0.045507192611694336 |      7           |\n",
      "|     forest_fires        |       68     |   1.3464417457580566  |   1.477091908454895      |   0.044004201889038086 |      7           |\n",
      "|     forest_fires        |       69     |   1.3464417457580566  |   1.477091908454895      |   0.05600714683532715  |      7           |\n",
      "|     forest_fires        |       70     |   1.3464417457580566  |   1.477091908454895      |   0.05700254440307617  |      7           |\n",
      "|     forest_fires        |       71     |   1.3464417457580566  |   1.477091908454895      |   0.043001651763916016 |      7           |\n",
      "|     forest_fires        |       72     |   1.3464417457580566  |   1.477091908454895      |   0.04599952697753906  |      7           |\n",
      "|     forest_fires        |       73     |   1.3464417457580566  |   1.477091908454895      |   0.05000019073486328  |      7           |\n",
      "|     forest_fires        |       74     |   1.3464417457580566  |   1.477091908454895      |   0.05100107192993164  |      7           |\n",
      "|     forest_fires        |       75     |   1.3464417457580566  |   1.477091908454895      |   0.06699633598327637  |      7           |\n",
      "|     forest_fires        |       76     |   1.3464417457580566  |   1.477091908454895      |   0.051999807357788086 |      7           |\n",
      "|     forest_fires        |       77     |   1.3464417457580566  |   1.477091908454895      |   0.05136680603027344  |      7           |\n",
      "|     forest_fires        |       78     |   1.3464417457580566  |   1.477091908454895      |   0.04899716377258301  |      7           |\n",
      "|     forest_fires        |       79     |   1.3464417457580566  |   1.477091908454895      |   0.036998748779296875 |      7           |\n",
      "|     forest_fires        |       80     |   1.3464417457580566  |   1.477091908454895      |   0.04100942611694336  |      7           |\n",
      "|     forest_fires        |       81     |   1.3464417457580566  |   1.477091908454895      |   0.08700442314147949  |      7           |\n",
      "|     forest_fires        |       82     |   1.3464417457580566  |   1.477091908454895      |   0.05800318717956543  |      7           |\n",
      "|     forest_fires        |       83     |   1.3464417457580566  |   1.477091908454895      |   0.13899445533752441  |      7           |\n",
      "|     forest_fires        |       84     |   1.3464417457580566  |   1.477091908454895      |   0.054993391036987305 |      7           |\n",
      "|     forest_fires        |       85     |   1.3464417457580566  |   1.477091908454895      |   0.14300107955932617  |      7           |\n",
      "|     forest_fires        |       86     |   1.3464417457580566  |   1.477091908454895      |   0.09700179100036621  |      7           |\n",
      "|     forest_fires        |       87     |   1.3464417457580566  |   1.477091908454895      |   0.06899785995483398  |      7           |\n",
      "|     forest_fires        |       88     |   1.3464417457580566  |   1.477091908454895      |   0.0879981517791748   |      7           |\n",
      "|     forest_fires        |       89     |   1.3464417457580566  |   1.477091908454895      |   0.307997465133667    |      7           |\n",
      "|     forest_fires        |       90     |   1.3464417457580566  |   1.477091908454895      |   0.5809838771820068   |      7           |\n",
      "|     forest_fires        |       91     |   1.3464417457580566  |   1.477091908454895      |   0.3220043182373047   |      7           |\n",
      "|     forest_fires        |       92     |   1.3464417457580566  |   1.477091908454895      |   0.1320047378540039   |      7           |\n",
      "|     forest_fires        |       93     |   1.3464417457580566  |   1.477091908454895      |   0.14800167083740234  |      7           |\n",
      "|     forest_fires        |       94     |   1.3464417457580566  |   1.477091908454895      |   0.15700316429138184  |      7           |\n",
      "|     forest_fires        |       95     |   1.3464417457580566  |   1.477091908454895      |   0.08700060844421387  |      7           |\n",
      "|     forest_fires        |       96     |   1.3464417457580566  |   1.477091908454895      |   0.09599804878234863  |      7           |\n",
      "|     forest_fires        |       97     |   1.3464417457580566  |   1.477091908454895      |   0.23600101470947266  |      7           |\n",
      "|     forest_fires        |       98     |   1.3464417457580566  |   1.477091908454895      |   0.12000060081481934  |      7           |\n",
      "|     forest_fires        |       99     |   1.3464417457580566  |   1.477091908454895      |   0.1459975242614746   |      7           |\n",
      "|     forest_fires        |       100    |   1.3438812494277954  |   1.5334012508392334     |   0.2549936771392822   |      27          |\n",
      "multiply(\n",
      "  divide(\n",
      "    constant_2.0\n",
      "    add(\n",
      "      add(\n",
      "        x21\n",
      "        add(\n",
      "          x9\n",
      "          x9\n",
      "        )\n",
      "      )\n",
      "      add(\n",
      "        x21\n",
      "        add(\n",
      "          x9\n",
      "          x9\n",
      "        )\n",
      "      )\n",
      "    )\n",
      "  )\n",
      "  divide(\n",
      "    constant_2.0\n",
      "    add(\n",
      "      add(\n",
      "        x21\n",
      "        add(\n",
      "          x9\n",
      "          x9\n",
      "        )\n",
      "      )\n",
      "      add(\n",
      "        x21\n",
      "        add(\n",
      "          x9\n",
      "          x9\n",
      "        )\n",
      "      )\n",
      "    )\n",
      "  )\n",
      ")\n",
      "\n",
      "1.4752528667449951\n"
     ]
    }
   ],
   "source": [
    "import sys\n",
    "import os\n",
    "sys.path.append(os.path.abspath(r'C:\\Users\\Formando\\PycharmProjects\\slim'))\n",
    "\n",
    "from slim_gsgp.config.global_var import global_var\n",
    "from slim_gsgp.config.gp_config import *\n",
    "from slim_gsgp.main_gp import gp  # import the slim_gsgp library\n",
    "from slim_gsgp.datasets.data_loader import load_forest_fires  # import the loader for the dataset PPB\n",
    "from slim_gsgp.evaluators.fitness_functions import rmse  # import the rmse fitness metric\n",
    "from slim_gsgp.utils.utils import train_test_split  # import the train-test split function\n",
    "\n",
    "# Load the PPB dataset\n",
    "X, y = load_forest_fires(X_y=True)\n",
    "\n",
    "# Split into train and test sets\n",
    "X_train, X_test, y_train, y_test = train_test_split(X, y, p_test=0.4)\n",
    "\n",
    "# Split the test set into validation and test sets\n",
    "X_val, X_test, y_val, y_test = train_test_split(X_test, y_test, p_test=0.5)\n",
    "\n",
    "\n",
    "local_var = {\n",
    "    \"dataset_name\": \"forest_fires\",\n",
    "    \"pop_size\": 50, # size of the population of candidate solutions.\n",
    "    \"n_iter\": 100,\n",
    "    \"p_xo\": .9, # probability of applying the cross-over genetic operator to candidate solutions.\n",
    "    \"elitism\": True,\n",
    "    \"n_elites\": 1,\n",
    "    \"max_depth\": 7,\n",
    "    \"init_depth\": 4,\n",
    "    \"log_path\": \"./log/gp_forest_fires.csv\",\n",
    "    \"seed\": 1111,\n",
    "    \"log_level\": 2,\n",
    "    \"verbose\": 1,\n",
    "    \"minimization\": True,\n",
    "    \"fitness_function\": \"rmse\",\n",
    "    \"initializer\": \"grow\",\n",
    "    \"n_jobs\": 1,\n",
    "    \"prob_const\": .9,\n",
    "    \"tree_functions\": list(FUNCTIONS.keys()),\n",
    "    \"tree_constants\": [float(key.replace(\"constant_\", \"\").replace(\"_\", \"-\")) for key in CONSTANTS],\n",
    "    \"tournament_size\": 2,\n",
    "    \"test_elite\": True\n",
    "}\n",
    "\n",
    "# Apply the GP algorithm\n",
    "final_tree = gp(X_train=X_train, y_train=y_train,\n",
    "                X_test=X_val, y_test=y_val,\n",
    "                **local_var)\n",
    "\n",
    "# Show the best individual structure at the last generation\n",
    "final_tree.print_tree_representation()\n",
    "\n",
    "# Get the prediction of the best individual on the test set\n",
    "predictions = final_tree.predict(X_test)\n",
    "\n",
    "# Compute and print the RMSE on the test set\n",
    "print(float(rmse(y_true=y_test, y_pred=predictions)))"
   ]
  },
  {
   "cell_type": "code",
   "execution_count": 4,
   "id": "bc044422-aef7-4c38-b008-076a963b90e1",
   "metadata": {},
   "outputs": [
    {
     "data": {
      "application/vnd.plotly.v1+json": {
       "config": {
        "plotlyServerURL": "https://plot.ly"
       },
       "data": [
        {
         "line": {
          "color": "blue"
         },
         "mode": "lines",
         "name": "Train",
         "type": "scatter",
         "y": {
          "bdata": "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",
          "dtype": "f8"
         }
        },
        {
         "line": {
          "color": "orange"
         },
         "mode": "lines",
         "name": "Test",
         "type": "scatter",
         "y": {
          "bdata": "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",
          "dtype": "f8"
         }
        }
       ],
       "layout": {
        "height": 400,
        "margin": {
         "t": 50
        },
        "template": {
         "data": {
          "bar": [
           {
            "error_x": {
             "color": "#2a3f5f"
            },
            "error_y": {
             "color": "#2a3f5f"
            },
            "marker": {
             "line": {
              "color": "#E5ECF6",
              "width": 0.5
             },
             "pattern": {
              "fillmode": "overlay",
              "size": 10,
              "solidity": 0.2
             }
            },
            "type": "bar"
           }
          ],
          "barpolar": [
           {
            "marker": {
             "line": {
              "color": "#E5ECF6",
              "width": 0.5
             },
             "pattern": {
              "fillmode": "overlay",
              "size": 10,
              "solidity": 0.2
             }
            },
            "type": "barpolar"
           }
          ],
          "carpet": [
           {
            "aaxis": {
             "endlinecolor": "#2a3f5f",
             "gridcolor": "white",
             "linecolor": "white",
             "minorgridcolor": "white",
             "startlinecolor": "#2a3f5f"
            },
            "baxis": {
             "endlinecolor": "#2a3f5f",
             "gridcolor": "white",
             "linecolor": "white",
             "minorgridcolor": "white",
             "startlinecolor": "#2a3f5f"
            },
            "type": "carpet"
           }
          ],
          "choropleth": [
           {
            "colorbar": {
             "outlinewidth": 0,
             "ticks": ""
            },
            "type": "choropleth"
           }
          ],
          "contour": [
           {
            "colorbar": {
             "outlinewidth": 0,
             "ticks": ""
            },
            "colorscale": [
             [
              0,
              "#0d0887"
             ],
             [
              0.1111111111111111,
              "#46039f"
             ],
             [
              0.2222222222222222,
              "#7201a8"
             ],
             [
              0.3333333333333333,
              "#9c179e"
             ],
             [
              0.4444444444444444,
              "#bd3786"
             ],
             [
              0.5555555555555556,
              "#d8576b"
             ],
             [
              0.6666666666666666,
              "#ed7953"
             ],
             [
              0.7777777777777778,
              "#fb9f3a"
             ],
             [
              0.8888888888888888,
              "#fdca26"
             ],
             [
              1,
              "#f0f921"
             ]
            ],
            "type": "contour"
           }
          ],
          "contourcarpet": [
           {
            "colorbar": {
             "outlinewidth": 0,
             "ticks": ""
            },
            "type": "contourcarpet"
           }
          ],
          "heatmap": [
           {
            "colorbar": {
             "outlinewidth": 0,
             "ticks": ""
            },
            "colorscale": [
             [
              0,
              "#0d0887"
             ],
             [
              0.1111111111111111,
              "#46039f"
             ],
             [
              0.2222222222222222,
              "#7201a8"
             ],
             [
              0.3333333333333333,
              "#9c179e"
             ],
             [
              0.4444444444444444,
              "#bd3786"
             ],
             [
              0.5555555555555556,
              "#d8576b"
             ],
             [
              0.6666666666666666,
              "#ed7953"
             ],
             [
              0.7777777777777778,
              "#fb9f3a"
             ],
             [
              0.8888888888888888,
              "#fdca26"
             ],
             [
              1,
              "#f0f921"
             ]
            ],
            "type": "heatmap"
           }
          ],
          "histogram": [
           {
            "marker": {
             "pattern": {
              "fillmode": "overlay",
              "size": 10,
              "solidity": 0.2
             }
            },
            "type": "histogram"
           }
          ],
          "histogram2d": [
           {
            "colorbar": {
             "outlinewidth": 0,
             "ticks": ""
            },
            "colorscale": [
             [
              0,
              "#0d0887"
             ],
             [
              0.1111111111111111,
              "#46039f"
             ],
             [
              0.2222222222222222,
              "#7201a8"
             ],
             [
              0.3333333333333333,
              "#9c179e"
             ],
             [
              0.4444444444444444,
              "#bd3786"
             ],
             [
              0.5555555555555556,
              "#d8576b"
             ],
             [
              0.6666666666666666,
              "#ed7953"
             ],
             [
              0.7777777777777778,
              "#fb9f3a"
             ],
             [
              0.8888888888888888,
              "#fdca26"
             ],
             [
              1,
              "#f0f921"
             ]
            ],
            "type": "histogram2d"
           }
          ],
          "histogram2dcontour": [
           {
            "colorbar": {
             "outlinewidth": 0,
             "ticks": ""
            },
            "colorscale": [
             [
              0,
              "#0d0887"
             ],
             [
              0.1111111111111111,
              "#46039f"
             ],
             [
              0.2222222222222222,
              "#7201a8"
             ],
             [
              0.3333333333333333,
              "#9c179e"
             ],
             [
              0.4444444444444444,
              "#bd3786"
             ],
             [
              0.5555555555555556,
              "#d8576b"
             ],
             [
              0.6666666666666666,
              "#ed7953"
             ],
             [
              0.7777777777777778,
              "#fb9f3a"
             ],
             [
              0.8888888888888888,
              "#fdca26"
             ],
             [
              1,
              "#f0f921"
             ]
            ],
            "type": "histogram2dcontour"
           }
          ],
          "mesh3d": [
           {
            "colorbar": {
             "outlinewidth": 0,
             "ticks": ""
            },
            "type": "mesh3d"
           }
          ],
          "parcoords": [
           {
            "line": {
             "colorbar": {
              "outlinewidth": 0,
              "ticks": ""
             }
            },
            "type": "parcoords"
           }
          ],
          "pie": [
           {
            "automargin": true,
            "type": "pie"
           }
          ],
          "scatter": [
           {
            "fillpattern": {
             "fillmode": "overlay",
             "size": 10,
             "solidity": 0.2
            },
            "type": "scatter"
           }
          ],
          "scatter3d": [
           {
            "line": {
             "colorbar": {
              "outlinewidth": 0,
              "ticks": ""
             }
            },
            "marker": {
             "colorbar": {
              "outlinewidth": 0,
              "ticks": ""
             }
            },
            "type": "scatter3d"
           }
          ],
          "scattercarpet": [
           {
            "marker": {
             "colorbar": {
              "outlinewidth": 0,
              "ticks": ""
             }
            },
            "type": "scattercarpet"
           }
          ],
          "scattergeo": [
           {
            "marker": {
             "colorbar": {
              "outlinewidth": 0,
              "ticks": ""
             }
            },
            "type": "scattergeo"
           }
          ],
          "scattergl": [
           {
            "marker": {
             "colorbar": {
              "outlinewidth": 0,
              "ticks": ""
             }
            },
            "type": "scattergl"
           }
          ],
          "scattermap": [
           {
            "marker": {
             "colorbar": {
              "outlinewidth": 0,
              "ticks": ""
             }
            },
            "type": "scattermap"
           }
          ],
          "scattermapbox": [
           {
            "marker": {
             "colorbar": {
              "outlinewidth": 0,
              "ticks": ""
             }
            },
            "type": "scattermapbox"
           }
          ],
          "scatterpolar": [
           {
            "marker": {
             "colorbar": {
              "outlinewidth": 0,
              "ticks": ""
             }
            },
            "type": "scatterpolar"
           }
          ],
          "scatterpolargl": [
           {
            "marker": {
             "colorbar": {
              "outlinewidth": 0,
              "ticks": ""
             }
            },
            "type": "scatterpolargl"
           }
          ],
          "scatterternary": [
           {
            "marker": {
             "colorbar": {
              "outlinewidth": 0,
              "ticks": ""
             }
            },
            "type": "scatterternary"
           }
          ],
          "surface": [
           {
            "colorbar": {
             "outlinewidth": 0,
             "ticks": ""
            },
            "colorscale": [
             [
              0,
              "#0d0887"
             ],
             [
              0.1111111111111111,
              "#46039f"
             ],
             [
              0.2222222222222222,
              "#7201a8"
             ],
             [
              0.3333333333333333,
              "#9c179e"
             ],
             [
              0.4444444444444444,
              "#bd3786"
             ],
             [
              0.5555555555555556,
              "#d8576b"
             ],
             [
              0.6666666666666666,
              "#ed7953"
             ],
             [
              0.7777777777777778,
              "#fb9f3a"
             ],
             [
              0.8888888888888888,
              "#fdca26"
             ],
             [
              1,
              "#f0f921"
             ]
            ],
            "type": "surface"
           }
          ],
          "table": [
           {
            "cells": {
             "fill": {
              "color": "#EBF0F8"
             },
             "line": {
              "color": "white"
             }
            },
            "header": {
             "fill": {
              "color": "#C8D4E3"
             },
             "line": {
              "color": "white"
             }
            },
            "type": "table"
           }
          ]
         },
         "layout": {
          "annotationdefaults": {
           "arrowcolor": "#2a3f5f",
           "arrowhead": 0,
           "arrowwidth": 1
          },
          "autotypenumbers": "strict",
          "coloraxis": {
           "colorbar": {
            "outlinewidth": 0,
            "ticks": ""
           }
          },
          "colorscale": {
           "diverging": [
            [
             0,
             "#8e0152"
            ],
            [
             0.1,
             "#c51b7d"
            ],
            [
             0.2,
             "#de77ae"
            ],
            [
             0.3,
             "#f1b6da"
            ],
            [
             0.4,
             "#fde0ef"
            ],
            [
             0.5,
             "#f7f7f7"
            ],
            [
             0.6,
             "#e6f5d0"
            ],
            [
             0.7,
             "#b8e186"
            ],
            [
             0.8,
             "#7fbc41"
            ],
            [
             0.9,
             "#4d9221"
            ],
            [
             1,
             "#276419"
            ]
           ],
           "sequential": [
            [
             0,
             "#0d0887"
            ],
            [
             0.1111111111111111,
             "#46039f"
            ],
            [
             0.2222222222222222,
             "#7201a8"
            ],
            [
             0.3333333333333333,
             "#9c179e"
            ],
            [
             0.4444444444444444,
             "#bd3786"
            ],
            [
             0.5555555555555556,
             "#d8576b"
            ],
            [
             0.6666666666666666,
             "#ed7953"
            ],
            [
             0.7777777777777778,
             "#fb9f3a"
            ],
            [
             0.8888888888888888,
             "#fdca26"
            ],
            [
             1,
             "#f0f921"
            ]
           ],
           "sequentialminus": [
            [
             0,
             "#0d0887"
            ],
            [
             0.1111111111111111,
             "#46039f"
            ],
            [
             0.2222222222222222,
             "#7201a8"
            ],
            [
             0.3333333333333333,
             "#9c179e"
            ],
            [
             0.4444444444444444,
             "#bd3786"
            ],
            [
             0.5555555555555556,
             "#d8576b"
            ],
            [
             0.6666666666666666,
             "#ed7953"
            ],
            [
             0.7777777777777778,
             "#fb9f3a"
            ],
            [
             0.8888888888888888,
             "#fdca26"
            ],
            [
             1,
             "#f0f921"
            ]
           ]
          },
          "colorway": [
           "#636efa",
           "#EF553B",
           "#00cc96",
           "#ab63fa",
           "#FFA15A",
           "#19d3f3",
           "#FF6692",
           "#B6E880",
           "#FF97FF",
           "#FECB52"
          ],
          "font": {
           "color": "#2a3f5f"
          },
          "geo": {
           "bgcolor": "white",
           "lakecolor": "white",
           "landcolor": "#E5ECF6",
           "showlakes": true,
           "showland": true,
           "subunitcolor": "white"
          },
          "hoverlabel": {
           "align": "left"
          },
          "hovermode": "closest",
          "mapbox": {
           "style": "light"
          },
          "paper_bgcolor": "white",
          "plot_bgcolor": "#E5ECF6",
          "polar": {
           "angularaxis": {
            "gridcolor": "white",
            "linecolor": "white",
            "ticks": ""
           },
           "bgcolor": "#E5ECF6",
           "radialaxis": {
            "gridcolor": "white",
            "linecolor": "white",
            "ticks": ""
           }
          },
          "scene": {
           "xaxis": {
            "backgroundcolor": "#E5ECF6",
            "gridcolor": "white",
            "gridwidth": 2,
            "linecolor": "white",
            "showbackground": true,
            "ticks": "",
            "zerolinecolor": "white"
           },
           "yaxis": {
            "backgroundcolor": "#E5ECF6",
            "gridcolor": "white",
            "gridwidth": 2,
            "linecolor": "white",
            "showbackground": true,
            "ticks": "",
            "zerolinecolor": "white"
           },
           "zaxis": {
            "backgroundcolor": "#E5ECF6",
            "gridcolor": "white",
            "gridwidth": 2,
            "linecolor": "white",
            "showbackground": true,
            "ticks": "",
            "zerolinecolor": "white"
           }
          },
          "shapedefaults": {
           "line": {
            "color": "#2a3f5f"
           }
          },
          "ternary": {
           "aaxis": {
            "gridcolor": "white",
            "linecolor": "white",
            "ticks": ""
           },
           "baxis": {
            "gridcolor": "white",
            "linecolor": "white",
            "ticks": ""
           },
           "bgcolor": "#E5ECF6",
           "caxis": {
            "gridcolor": "white",
            "linecolor": "white",
            "ticks": ""
           }
          },
          "title": {
           "x": 0.05
          },
          "xaxis": {
           "automargin": true,
           "gridcolor": "white",
           "linecolor": "white",
           "ticks": "",
           "title": {
            "standoff": 15
           },
           "zerolinecolor": "white",
           "zerolinewidth": 2
          },
          "yaxis": {
           "automargin": true,
           "gridcolor": "white",
           "linecolor": "white",
           "ticks": "",
           "title": {
            "standoff": 15
           },
           "zerolinecolor": "white",
           "zerolinewidth": 2
          }
         }
        },
        "title": {
         "text": "GP - Train vs Test Fitness (forest_fires dataset)"
        },
        "width": 800,
        "xaxis": {
         "title": {
          "text": "Generation"
         }
        },
        "yaxis": {
         "range": [
          0,
          null
         ],
         "title": {
          "text": "RMSE"
         }
        }
       }
      },
      "image/png": "[encoded data removed]"
     },
     "metadata": {},
     "output_type": "display_data"
    }
   ],
   "source": [
    "import sys\n",
    "import os\n",
    "sys.path.append(os.path.abspath(r'C:\\Users\\Formando\\PycharmProjects\\slim'))\n",
    "from slim_gsgp.utils.graphic import build_graphic\n",
    "\n",
    "log_path = \"./log/gp_forest_fires.csv\"\n",
    "dataset_name = \"forest_fires\"\n",
    "build_graphic(log_path, dataset_name)"
   ]
  },
  {
   "cell_type": "code",
   "execution_count": null,
   "id": "d188bef4-b263-4237-a152-1e86f94521b8",
   "metadata": {},
   "outputs": [],
   "source": []
  }
 ],
 "metadata": {
  "kernelspec": {
   "display_name": "Python 3 (ipykernel)",
   "language": "python",
   "name": "python3"
  },
  "language_info": {
   "codemirror_mode": {
    "name": "ipython",
    "version": 3
   },
   "file_extension": ".py",
   "mimetype": "text/x-python",
   "name": "python",
   "nbconvert_exporter": "python",
   "pygments_lexer": "ipython3",
   "version": "3.12.1"
  }
 },
 "nbformat": 4,
 "nbformat_minor": 5
}
