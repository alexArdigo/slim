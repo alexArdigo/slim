{
 "cells": [
  {
   "cell_type": "code",
   "execution_count": null,
   "id": "initial_id",
   "metadata": {
    "collapsed": true
   },
   "outputs": [],
   "source": [
    "from slim_gsgp.config.global_var import global_var\n",
    "from slim_gsgp.config.gp_config import *\n",
    "from slim_gsgp.main_gp import gp\n",
    "from slim_gsgp.datasets.data_loader import load_forest_fires\n",
    "from slim_gsgp.evaluators.fitness_functions import rmse\n",
    "from slim_gsgp.utils.utils import train_test_split\n",
    "\n",
    "# Load the forest fires dataset\n",
    "X, y = load_forest_fires(X_y=True)\n",
    "\n",
    "# Split into train and test sets\n",
    "X_train, X_test, y_train, y_test = train_test_split(X, y, p_test=0.4)\n",
    "\n",
    "# Split the test set into validation and test sets\n",
    "X_val, X_test, y_val, y_test = train_test_split(X_test, y_test, p_test=0.5)\n",
    "\n",
    "local_var = {\n",
    "    \"dataset_name\": \"forest_fires\",\n",
    "    \"pop_size\": 50,\n",
    "    \"n_iter\": 100,\n",
    "    \"p_xo\": .9,\n",
    "    \"elitism\": True,\n",
    "    \"n_elites\": 1,\n",
    "    \"max_depth\": 7,\n",
    "    \"init_depth\": 4,\n",
    "    \"log_path\": \"./log/gp_forest_fires.csv\",\n",
    "    \"seed\": 1111,\n",
    "    \"log_level\": 2,\n",
    "    \"verbose\": 1,\n",
    "    \"minimization\": True,\n",
    "    \"fitness_function\": \"rmse\",\n",
    "    \"initializer\": \"grow\",\n",
    "    \"n_jobs\": 1,\n",
    "    \"prob_const\": .9,\n",
    "    \"tree_functions\": list(FUNCTIONS.keys()),\n",
    "    \"tree_constants\": [float(key.replace(\"constant_\", \"\").replace(\"_\", \"-\")) for key in CONSTANTS],\n",
    "    \"tournament_size\": 2,\n",
    "    \"test_elite\": True\n",
    "}\n",
    "\n",
    "# Apply the GP algorithm\n",
    "final_tree = gp(X_train=X_train, y_train=y_train,\n",
    "                X_test=X_val, y_test=y_val,\n",
    "                **local_var)\n",
    "\n",
    "# Show the best individual structure at the last generation\n",
    "final_tree.print_tree_representation()\n",
    "\n",
    "# Get the prediction of the best individual on the test set\n",
    "predictions = final_tree.predict(X_test)\n",
    "\n",
    "# Compute and print the RMSE on the test set\n",
    "print(float(rmse(y_true=y_test, y_pred=predictions)))"
   ]
  }
 ],
 "metadata": {
  "kernelspec": {
   "display_name": "Python 3",
   "language": "python",
   "name": "python3"
  },
  "language_info": {
   "codemirror_mode": {
    "name": "ipython",
    "version": 2
   },
   "file_extension": ".py",
   "mimetype": "text/x-python",
   "name": "python",
   "nbconvert_exporter": "python",
   "pygments_lexer": "ipython2",
   "version": "2.7.6"
  }
 },
 "nbformat": 4,
 "nbformat_minor": 5
}
