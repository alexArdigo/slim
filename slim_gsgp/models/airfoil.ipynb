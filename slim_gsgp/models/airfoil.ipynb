{
 "cells": [
  {
   "cell_type": "code",
   "execution_count": 1,
   "id": "initial_id",
   "metadata": {
    "ExecuteTime": {
     "end_time": "2025-07-23T13:10:18.704483Z",
     "start_time": "2025-07-23T13:10:00.238776Z"
    }
   },
   "outputs": [],
   "source": [
    "import sys\n",
    "import os\n",
    "sys.path.append(os.path.abspath(r'C:\\Users\\Formando\\PycharmProjects\\slim'))\n",
    "\n",
    "import pandas as pd\n",
    "import plotly.graph_objects as go\n",
    "\n",
    "from slim_gsgp.config.gp_config import *\n",
    "from slim_gsgp.main_gp import gp  # import the slim_gsgp library\n",
    "from slim_gsgp.datasets.data_loader import load_airfoil  # import the loader for the dataset PPB\n",
    "from slim_gsgp.evaluators.fitness_functions import rmse  # import the rmse fitness metric\n",
    "from slim_gsgp.utils.utils import train_test_split  # import the train-test split function\n",
    "\n",
    "# Load the Airfoil dataset\n",
    "X, y = load_airfoil(X_y=True)\n",
    "\n",
    "# Split into train and test sets\n",
    "X_train, X_test, y_train, y_test = train_test_split(X, y, p_test=0.4)\n",
    "\n",
    "# Split the test set into validation and test sets\n",
    "X_val, X_test, y_val, y_test = train_test_split(X_test, y_test, p_test=0.5)\n",
    "\n",
    "\n",
    "local_var = {\n",
    "    \"log_path\": \"./log/gp_airfoil.csv\",\n",
    "    \"dataset_name\": \"airfoil\",\n",
    "    \"pop_size\": 50, # size of the population of candidate solutions.\n",
    "    \"n_iter\": 100,\n",
    "    \"p_xo\": .9, # probability of applying the cross-over genetic operator to candidate solutions.\n",
    "    \"elitism\": True,\n",
    "    \"n_elites\": 1,\n",
    "    \"max_depth\": 7,\n",
    "    \"init_depth\": 4,\n",
    "    \"seed\": 1111,\n",
    "    \"log_level\": 2,\n",
    "    \"verbose\": 1,\n",
    "    \"minimization\": True,\n",
    "    \"fitness_function\": \"rmse\",\n",
    "    \"initializer\": \"grow\",\n",
    "    \"n_jobs\": 1,\n",
    "    \"prob_const\": .9,\n",
    "    \"tree_functions\": list(FUNCTIONS.keys()),\n",
    "    \"tree_constants\": [float(key.replace(\"constant_\", \"\").replace(\"_\", \"-\")) for key in CONSTANTS],\n",
    "    \"tournament_size\": 2,\n",
    "    \"test_elite\": True\n",
    "}\n",
    "\n"
   ]
  },
  {
   "cell_type": "code",
   "execution_count": 2,
   "id": "d3bf3890-2660-42fb-8af3-bee8e20a4f3b",
   "metadata": {},
   "outputs": [
    {
     "name": "stdout",
     "output_type": "stream",
     "text": [
      "Verbose Reporter\n",
      "-----------------------------------------------------------------------------------------------------------------------------------------\n",
      "|         Dataset         |  Generation  |     Train Fitness     |       Test Fitness       |        Timing          |      Nodes       |\n",
      "-----------------------------------------------------------------------------------------------------------------------------------------\n",
      "|     airfoil             |       0      |   38.03727722167969   |   39.9749641418457       |   0.04495978355407715  |      3           |\n",
      "|     airfoil             |       1      |   38.03727722167969   |   39.9749641418457       |   0.007996559143066406 |      3           |\n",
      "|     airfoil             |       2      |   38.03727722167969   |   39.9749641418457       |   0.008998632431030273 |      3           |\n",
      "|     airfoil             |       3      |   38.03727722167969   |   39.9749641418457       |   0.00800180435180664  |      3           |\n",
      "|     airfoil             |       4      |   38.03727722167969   |   39.9749641418457       |   0.00800180435180664  |      3           |\n",
      "|     airfoil             |       5      |   38.03727722167969   |   39.9749641418457       |   0.006999015808105469 |      3           |\n",
      "|     airfoil             |       6      |   38.03727722167969   |   39.9749641418457       |   0.008623361587524414 |      3           |\n",
      "|     airfoil             |       7      |   38.03727722167969   |   39.9749641418457       |   0.009008169174194336 |      3           |\n",
      "|     airfoil             |       8      |   38.03727722167969   |   39.9749641418457       |   0.005992412567138672 |      3           |\n",
      "|     airfoil             |       9      |   38.03727722167969   |   39.9749641418457       |   0.010513544082641602 |      3           |\n",
      "|     airfoil             |       10     |   38.03727722167969   |   39.9749641418457       |   0.010999441146850586 |      3           |\n",
      "|     airfoil             |       11     |   38.03727722167969   |   39.9749641418457       |   0.008006572723388672 |      3           |\n",
      "|     airfoil             |       12     |   38.03727722167969   |   39.9749641418457       |   0.007044076919555664 |      3           |\n",
      "|     airfoil             |       13     |   38.03727722167969   |   39.9749641418457       |   0.007498502731323242 |      3           |\n",
      "|     airfoil             |       14     |   38.03727722167969   |   39.9749641418457       |   0.008403778076171875 |      3           |\n",
      "|     airfoil             |       15     |   38.03727722167969   |   39.9749641418457       |   0.006305694580078125 |      3           |\n",
      "|     airfoil             |       16     |   38.03727722167969   |   39.9749641418457       |   0.0065457820892333984|      3           |\n",
      "|     airfoil             |       17     |   38.03727722167969   |   39.9749641418457       |   0.0077991485595703125|      3           |\n",
      "|     airfoil             |       18     |   38.03727722167969   |   39.9749641418457       |   0.008985519409179688 |      3           |\n",
      "|     airfoil             |       19     |   38.03727722167969   |   39.9749641418457       |   0.008999347686767578 |      3           |\n",
      "|     airfoil             |       20     |   38.03727722167969   |   39.9749641418457       |   0.006007671356201172 |      3           |\n",
      "|     airfoil             |       21     |   38.03727722167969   |   39.9749641418457       |   0.006998538970947266 |      3           |\n",
      "|     airfoil             |       22     |   35.860595703125     |   37.51382064819336      |   0.008377552032470703 |      7           |\n",
      "|     airfoil             |       23     |   35.860595703125     |   37.51382064819336      |   0.00896143913269043  |      7           |\n",
      "|     airfoil             |       24     |   35.860595703125     |   37.51382064819336      |   0.008034467697143555 |      7           |\n",
      "|     airfoil             |       25     |   35.860595703125     |   37.51382064819336      |   0.007383584976196289 |      7           |\n",
      "|     airfoil             |       26     |   33.91321563720703   |   35.215660095214844     |   0.006966829299926758 |      11          |\n",
      "|     airfoil             |       27     |   33.91321563720703   |   35.215660095214844     |   0.00699615478515625  |      11          |\n",
      "|     airfoil             |       28     |   33.91321563720703   |   35.215660095214844     |   0.005600690841674805 |      11          |\n",
      "|     airfoil             |       29     |   33.91321563720703   |   35.215660095214844     |   0.006409168243408203 |      11          |\n",
      "|     airfoil             |       30     |   33.91321563720703   |   35.215660095214844     |   0.004993438720703125 |      11          |\n",
      "|     airfoil             |       31     |   33.91321563720703   |   35.215660095214844     |   0.006070852279663086 |      11          |\n",
      "|     airfoil             |       32     |   33.91321563720703   |   35.215660095214844     |   0.004981517791748047 |      11          |\n",
      "|     airfoil             |       33     |   33.91321563720703   |   35.215660095214844     |   0.005374908447265625 |      11          |\n",
      "|     airfoil             |       34     |   31.507156372070312  |   31.98632049560547      |   0.009001493453979492 |      15          |\n",
      "|     airfoil             |       35     |   31.467267990112305  |   31.926748275756836     |   0.013148784637451172 |      19          |\n",
      "|     airfoil             |       36     |   31.467267990112305  |   31.926748275756836     |   0.01645684242248535  |      19          |\n",
      "|     airfoil             |       37     |   31.01163101196289   |   30.55701446533203      |   0.018825769424438477 |      15          |\n",
      "|     airfoil             |       38     |   31.01163101196289   |   30.55701446533203      |   0.028520822525024414 |      15          |\n",
      "|     airfoil             |       39     |   31.01163101196289   |   30.55701446533203      |   0.022780656814575195 |      15          |\n",
      "|     airfoil             |       40     |   31.01163101196289   |   30.55701446533203      |   0.016988277435302734 |      15          |\n",
      "|     airfoil             |       41     |   31.01163101196289   |   30.55701446533203      |   0.011993885040283203 |      15          |\n",
      "|     airfoil             |       42     |   31.01163101196289   |   30.55701446533203      |   0.010991573333740234 |      15          |\n",
      "|     airfoil             |       43     |   31.01163101196289   |   30.55701446533203      |   0.010993480682373047 |      15          |\n",
      "|     airfoil             |       44     |   31.01163101196289   |   30.55701446533203      |   0.012000799179077148 |      15          |\n",
      "|     airfoil             |       45     |   31.01163101196289   |   30.55701446533203      |   0.01204371452331543  |      15          |\n",
      "|     airfoil             |       46     |   31.01163101196289   |   30.55701446533203      |   0.01260232925415039  |      15          |\n",
      "|     airfoil             |       47     |   31.01163101196289   |   30.55701446533203      |   0.011037111282348633 |      15          |\n",
      "|     airfoil             |       48     |   31.01163101196289   |   30.55701446533203      |   0.011001825332641602 |      15          |\n",
      "|     airfoil             |       49     |   31.01163101196289   |   30.55701446533203      |   0.013341903686523438 |      15          |\n",
      "|     airfoil             |       50     |   31.01163101196289   |   30.55701446533203      |   0.011999845504760742 |      15          |\n",
      "|     airfoil             |       51     |   31.01163101196289   |   30.55701446533203      |   0.01300048828125     |      15          |\n",
      "|     airfoil             |       52     |   31.01163101196289   |   30.55701446533203      |   0.017116308212280273 |      15          |\n",
      "|     airfoil             |       53     |   31.01163101196289   |   30.55701446533203      |   0.018720626831054688 |      15          |\n",
      "|     airfoil             |       54     |   31.01163101196289   |   30.55701446533203      |   0.013235807418823242 |      15          |\n",
      "|     airfoil             |       55     |   31.01163101196289   |   30.55701446533203      |   0.013634920120239258 |      15          |\n",
      "|     airfoil             |       56     |   31.01163101196289   |   30.55701446533203      |   0.012000322341918945 |      15          |\n",
      "|     airfoil             |       57     |   31.01163101196289   |   30.55701446533203      |   0.013019323348999023 |      15          |\n",
      "|     airfoil             |       58     |   31.01163101196289   |   30.55701446533203      |   0.01304769515991211  |      15          |\n",
      "|     airfoil             |       59     |   31.01163101196289   |   30.55701446533203      |   0.02050042152404785  |      15          |\n",
      "|     airfoil             |       60     |   31.01163101196289   |   30.55701446533203      |   0.015995264053344727 |      15          |\n",
      "|     airfoil             |       61     |   31.01163101196289   |   30.55701446533203      |   0.01199650764465332  |      15          |\n",
      "|     airfoil             |       62     |   31.01163101196289   |   30.55701446533203      |   0.011999130249023438 |      15          |\n",
      "|     airfoil             |       63     |   31.01163101196289   |   30.55701446533203      |   0.011998891830444336 |      15          |\n",
      "|     airfoil             |       64     |   31.01163101196289   |   30.55701446533203      |   0.011992216110229492 |      15          |\n",
      "|     airfoil             |       65     |   31.01163101196289   |   30.55701446533203      |   0.011008501052856445 |      15          |\n",
      "|     airfoil             |       66     |   31.01163101196289   |   30.55701446533203      |   0.020603179931640625 |      15          |\n",
      "|     airfoil             |       67     |   31.01163101196289   |   30.55701446533203      |   0.022268295288085938 |      15          |\n",
      "|     airfoil             |       68     |   31.01163101196289   |   30.55701446533203      |   0.019406795501708984 |      15          |\n",
      "|     airfoil             |       69     |   31.01163101196289   |   30.55701446533203      |   0.01497030258178711  |      15          |\n",
      "|     airfoil             |       70     |   31.01163101196289   |   30.55701446533203      |   0.010974645614624023 |      15          |\n",
      "|     airfoil             |       71     |   31.01163101196289   |   30.55701446533203      |   0.012521505355834961 |      15          |\n",
      "|     airfoil             |       72     |   31.01163101196289   |   30.55701446533203      |   0.013999462127685547 |      15          |\n",
      "|     airfoil             |       73     |   31.01163101196289   |   30.55701446533203      |   0.021197795867919922 |      15          |\n",
      "|     airfoil             |       74     |   31.01163101196289   |   30.55701446533203      |   0.02525806427001953  |      15          |\n",
      "|     airfoil             |       75     |   31.01163101196289   |   30.55701446533203      |   0.017693758010864258 |      15          |\n",
      "|     airfoil             |       76     |   31.01163101196289   |   30.55701446533203      |   0.013507843017578125 |      15          |\n",
      "|     airfoil             |       77     |   31.01163101196289   |   30.55701446533203      |   0.013763427734375    |      15          |\n",
      "|     airfoil             |       78     |   31.01163101196289   |   30.55701446533203      |   0.021964311599731445 |      15          |\n",
      "|     airfoil             |       79     |   31.01163101196289   |   30.55701446533203      |   0.016033172607421875 |      15          |\n",
      "|     airfoil             |       80     |   31.01163101196289   |   30.55701446533203      |   0.016571521759033203 |      15          |\n",
      "|     airfoil             |       81     |   31.01163101196289   |   30.55701446533203      |   0.04572176933288574  |      15          |\n",
      "|     airfoil             |       82     |   31.01163101196289   |   30.55701446533203      |   0.02704596519470215  |      15          |\n",
      "|     airfoil             |       83     |   28.226024627685547  |   27.831924438476562     |   0.019967079162597656 |      23          |\n",
      "|     airfoil             |       84     |   20.5701961517334    |   20.17435073852539      |   0.02273273468017578  |      19          |\n",
      "|     airfoil             |       85     |   20.5701961517334    |   20.17435073852539      |   0.015984535217285156 |      19          |\n",
      "|     airfoil             |       86     |   20.5701961517334    |   20.17435073852539      |   0.01664900779724121  |      19          |\n",
      "|     airfoil             |       87     |   20.5701961517334    |   20.17435073852539      |   0.019263505935668945 |      19          |\n",
      "|     airfoil             |       88     |   20.5701961517334    |   20.17435073852539      |   0.022328853607177734 |      19          |\n",
      "|     airfoil             |       89     |   20.5701961517334    |   20.17435073852539      |   0.016141176223754883 |      19          |\n",
      "|     airfoil             |       90     |   20.5701961517334    |   20.17435073852539      |   0.01481318473815918  |      19          |\n",
      "|     airfoil             |       91     |   20.5701961517334    |   20.17435073852539      |   0.02105998992919922  |      19          |\n",
      "|     airfoil             |       92     |   10.454644203186035  |   10.578646659851074     |   0.02196025848388672  |      23          |\n",
      "|     airfoil             |       93     |   10.454644203186035  |   10.578646659851074     |   0.015576839447021484 |      23          |\n",
      "|     airfoil             |       94     |   10.454644203186035  |   10.578646659851074     |   0.016417741775512695 |      23          |\n",
      "|     airfoil             |       95     |   10.454644203186035  |   10.578646659851074     |   0.016961097717285156 |      23          |\n",
      "|     airfoil             |       96     |   10.454644203186035  |   10.578646659851074     |   0.016053438186645508 |      23          |\n",
      "|     airfoil             |       97     |   10.454644203186035  |   10.578646659851074     |   0.017507076263427734 |      23          |\n",
      "|     airfoil             |       98     |   10.454644203186035  |   10.578646659851074     |   0.021874189376831055 |      23          |\n",
      "|     airfoil             |       99     |   10.454644203186035  |   10.578646659851074     |   0.025336503982543945 |      23          |\n",
      "|     airfoil             |       100    |   10.454644203186035  |   10.578646659851074     |   0.025661230087280273 |      23          |\n",
      "add(\n",
      "  multiply(\n",
      "    subtract(\n",
      "      constant_3.0\n",
      "      subtract(\n",
      "        x2\n",
      "        constant_2.0\n",
      "      )\n",
      "    )\n",
      "    subtract(\n",
      "      multiply(\n",
      "        constant_4.0\n",
      "        constant_4.0\n",
      "      )\n",
      "      constant_4.0\n",
      "    )\n",
      "  )\n",
      "  multiply(\n",
      "    subtract(\n",
      "      constant_3.0\n",
      "      subtract(\n",
      "        x2\n",
      "        constant_2.0\n",
      "      )\n",
      "    )\n",
      "    subtract(\n",
      "      multiply(\n",
      "        constant_4.0\n",
      "        constant_4.0\n",
      "      )\n",
      "      constant_4.0\n",
      "    )\n",
      "  )\n",
      ")\n",
      "\n",
      "10.758529663085938\n"
     ]
    }
   ],
   "source": [
    "# Apply the GP algorithm\n",
    "final_tree = gp(X_train=X_train, y_train=y_train,\n",
    "                X_test=X_val, y_test=y_val,\n",
    "                **local_var)\n",
    "\n",
    "# Show the best individual structure at the last generation\n",
    "final_tree.print_tree_representation()\n",
    "\n",
    "# Get the prediction of the best individual on the test set\n",
    "predictions = final_tree.predict(X_test)\n",
    "\n",
    "# Compute and print the RMSE on the test set\n",
    "print(float(rmse(y_true=y_test, y_pred=predictions)))"
   ]
  },
  {
   "cell_type": "code",
   "execution_count": 3,
   "id": "bc044422-aef7-4c38-b008-076a963b90e1",
   "metadata": {},
   "outputs": [
    {
     "data": {
      "application/vnd.plotly.v1+json": {
       "config": {
        "plotlyServerURL": "https://plot.ly"
       },
       "data": [
        {
         "line": {
          "color": "blue"
         },
         "mode": "lines",
         "name": "Train",
         "type": "scatter",
         "y": {
          "bdata": "AAAAgMUEQ0AAAACAxQRDQAAAAIDFBENAAAAAgMUEQ0AAAACAxQRDQAAAAIDFBENAAAAAgMUEQ0AAAACAxQRDQAAAAIDFBENAAAAAgMUEQ0AAAACAxQRDQAAAAIDFBENAAAAAgMUEQ0AAAACAxQRDQAAAAIDFBENAAAAAgMUEQ0AAAACAxQRDQAAAAIDFBENAAAAAgMUEQ0AAAACAxQRDQAAAAIDFBENAAAAAgMUEQ0AAAAAAKO5BQAAAAAAo7kFAAAAAACjuQUAAAAAAKO5BQAAAAEDk9EBAAAAAQOT0QEAAAABA5PRAQAAAAEDk9EBAAAAAQOT0QEAAAABA5PRAQAAAAEDk9EBAAAAAQOT0QEAAAAAA1YE/QAAAAOCedz9AAAAA4J53P0AAAABA+gI/QAAAAED6Aj9AAAAAQPoCP0AAAABA+gI/QAAAAED6Aj9AAAAAQPoCP0AAAABA+gI/QAAAAED6Aj9AAAAAQPoCP0AAAABA+gI/QAAAAED6Aj9AAAAAQPoCP0AAAABA+gI/QAAAAED6Aj9AAAAAQPoCP0AAAABA+gI/QAAAAED6Aj9AAAAAQPoCP0AAAABA+gI/QAAAAED6Aj9AAAAAQPoCP0AAAABA+gI/QAAAAED6Aj9AAAAAQPoCP0AAAABA+gI/QAAAAED6Aj9AAAAAQPoCP0AAAABA+gI/QAAAAED6Aj9AAAAAQPoCP0AAAABA+gI/QAAAAED6Aj9AAAAAQPoCP0AAAABA+gI/QAAAAED6Aj9AAAAAQPoCP0AAAABA+gI/QAAAAED6Aj9AAAAAQPoCP0AAAABA+gI/QAAAAED6Aj9AAAAAQPoCP0AAAABA+gI/QAAAAED6Aj9AAAAAQPoCP0AAAABA+gI/QAAAAMDcOTxAAAAAYPiRNEAAAABg+JE0QAAAAGD4kTRAAAAAYPiRNEAAAABg+JE0QAAAAGD4kTRAAAAAYPiRNEAAAABg+JE0QAAAACDH6CRAAAAAIMfoJEAAAAAgx+gkQAAAACDH6CRAAAAAIMfoJEAAAAAgx+gkQAAAACDH6CRAAAAAIMfoJEAAAAAgx+gkQAAAAIDFBENAAAAAgMUEQ0AAAACAxQRDQAAAAIDFBENAAAAAgMUEQ0AAAACAxQRDQAAAAIDFBENAAAAAgMUEQ0AAAACAxQRDQAAAAIDFBENAAAAAgMUEQ0AAAACAxQRDQAAAAIDFBENAAAAAgMUEQ0AAAACAxQRDQAAAAIDFBENAAAAAgMUEQ0AAAACAxQRDQAAAAIDFBENAAAAAgMUEQ0AAAACAxQRDQAAAAIDFBENAAAAAACjuQUAAAAAAKO5BQAAAAAAo7kFAAAAAACjuQUAAAABA5PRAQAAAAEDk9EBAAAAAQOT0QEAAAABA5PRAQAAAAEDk9EBAAAAAQOT0QEAAAABA5PRAQAAAAEDk9EBAAAAAANWBP0AAAADgnnc/QAAAAOCedz9AAAAAQPoCP0AAAABA+gI/QAAAAED6Aj9AAAAAQPoCP0AAAABA+gI/QAAAAED6Aj9AAAAAQPoCP0AAAABA+gI/QAAAAED6Aj9AAAAAQPoCP0AAAABA+gI/QAAAAED6Aj9AAAAAQPoCP0AAAABA+gI/QAAAAED6Aj9AAAAAQPoCP0AAAABA+gI/QAAAAED6Aj9AAAAAQPoCP0AAAABA+gI/QAAAAED6Aj9AAAAAQPoCP0AAAABA+gI/QAAAAED6Aj9AAAAAQPoCP0AAAABA+gI/QAAAAED6Aj9AAAAAQPoCP0AAAABA+gI/QAAAAED6Aj9AAAAAQPoCP0AAAABA+gI/QAAAAED6Aj9AAAAAQPoCP0AAAABA+gI/QAAAAED6Aj9AAAAAQPoCP0AAAABA+gI/QAAAAED6Aj9AAAAAQPoCP0AAAABA+gI/QAAAAED6Aj9AAAAAQPoCP0AAAABA+gI/QAAAAED6Aj9AAAAAQPoCP0AAAADA3Dk8QAAAAGD4kTRAAAAAYPiRNEAAAABg+JE0QAAAAGD4kTRAAAAAYPiRNEAAAABg+JE0QAAAAGD4kTRAAAAAYPiRNEAAAAAgx+gkQAAAACDH6CRAAAAAIMfoJEAAAAAgx+gkQAAAACDH6CRAAAAAIMfoJEAAAAAgx+gkQAAAACDH6CRAAAAAIMfoJEAAAACAxQRDQAAAAIDFBENAAAAAgMUEQ0AAAACAxQRDQAAAAIDFBENAAAAAgMUEQ0AAAACAxQRDQAAAAIDFBENAAAAAgMUEQ0AAAACAxQRDQAAAAIDFBENAAAAAgMUEQ0AAAACAxQRDQAAAAIDFBENAAAAAgMUEQ0AAAACAxQRDQAAAAIDFBENAAAAAgMUEQ0AAAACAxQRDQAAAAIDFBENAAAAAgMUEQ0AAAACAxQRDQAAAAAAo7kFAAAAAACjuQUAAAAAAKO5BQAAAAAAo7kFAAAAAQOT0QEAAAABA5PRAQAAAAEDk9EBAAAAAQOT0QEAAAABA5PRAQAAAAEDk9EBAAAAAQOT0QEAAAABA5PRAQAAAAADVgT9AAAAA4J53P0AAAADgnnc/QAAAAED6Aj9AAAAAQPoCP0AAAABA+gI/QAAAAED6Aj9AAAAAQPoCP0AAAABA+gI/QAAAAED6Aj9AAAAAQPoCP0AAAABA+gI/QAAAAED6Aj9AAAAAQPoCP0AAAABA+gI/QAAAAED6Aj9AAAAAQPoCP0AAAABA+gI/QAAAAED6Aj9AAAAAQPoCP0AAAABA+gI/QAAAAED6Aj9AAAAAQPoCP0AAAABA+gI/QAAAAED6Aj9AAAAAQPoCP0AAAABA+gI/QAAAAED6Aj9AAAAAQPoCP0AAAABA+gI/QAAAAED6Aj9AAAAAQPoCP0AAAABA+gI/QAAAAED6Aj9AAAAAQPoCP0AAAABA+gI/QAAAAED6Aj9AAAAAQPoCP0AAAABA+gI/QAAAAED6Aj9AAAAAQPoCP0AAAABA+gI/QAAAAED6Aj9AAAAAQPoCP0AAAABA+gI/QAAAAED6Aj9AAAAAQPoCP0AAAABA+gI/QAAAAED6Aj9AAAAAwNw5PEAAAABg+JE0QAAAAGD4kTRAAAAAYPiRNEAAAABg+JE0QAAAAGD4kTRAAAAAYPiRNEAAAABg+JE0QAAAAGD4kTRAAAAAIMfoJEAAAAAgx+gkQAAAACDH6CRAAAAAIMfoJEAAAAAgx+gkQAAAACDH6CRAAAAAIMfoJEAAAAAgx+gkQAAAACDH6CRAAAAAgMUEQ0AAAACAxQRDQAAAAIDFBENAAAAAgMUEQ0AAAACAxQRDQAAAAIDFBENAAAAAgMUEQ0AAAACAxQRDQAAAAIDFBENAAAAAgMUEQ0AAAACAxQRDQAAAAIDFBENAAAAAgMUEQ0AAAACAxQRDQAAAAIDFBENAAAAAgMUEQ0AAAACAxQRDQAAAAIDFBENAAAAAgMUEQ0AAAACAxQRDQAAAAIDFBENAAAAAgMUEQ0AAAAAAKO5BQAAAAAAo7kFAAAAAACjuQUAAAAAAKO5BQAAAAEDk9EBAAAAAQOT0QEAAAABA5PRAQAAAAEDk9EBAAAAAQOT0QEAAAABA5PRAQAAAAEDk9EBAAAAAQOT0QEAAAAAA1YE/QAAAAOCedz9AAAAA4J53P0AAAABA+gI/QAAAAED6Aj9AAAAAQPoCP0AAAABA+gI/QAAAAED6Aj9AAAAAQPoCP0AAAABA+gI/QAAAAED6Aj9AAAAAQPoCP0AAAABA+gI/QAAAAED6Aj9AAAAAQPoCP0AAAABA+gI/QAAAAED6Aj9AAAAAQPoCP0AAAABA+gI/QAAAAED6Aj9AAAAAQPoCP0AAAABA+gI/QAAAAED6Aj9AAAAAQPoCP0AAAABA+gI/QAAAAED6Aj9AAAAAQPoCP0AAAABA+gI/QAAAAED6Aj9AAAAAQPoCP0AAAABA+gI/QAAAAED6Aj9AAAAAQPoCP0AAAABA+gI/QAAAAED6Aj9AAAAAQPoCP0AAAABA+gI/QAAAAED6Aj9AAAAAQPoCP0AAAABA+gI/QAAAAED6Aj9AAAAAQPoCP0AAAABA+gI/QAAAAED6Aj9AAAAAQPoCP0AAAABA+gI/QAAAAED6Aj9AAAAAQPoCP0AAAABA+gI/QAAAAMDcOTxAAAAAYPiRNEAAAABg+JE0QAAAAGD4kTRAAAAAYPiRNEAAAABg+JE0QAAAAGD4kTRAAAAAYPiRNEAAAABg+JE0QAAAACDH6CRAAAAAIMfoJEAAAAAgx+gkQAAAACDH6CRAAAAAIMfoJEAAAAAgx+gkQAAAACDH6CRAAAAAIMfoJEAAAAAgx+gkQAAAAIDFBENAAAAAgMUEQ0AAAACAxQRDQAAAAIDFBENAAAAAgMUEQ0AAAACAxQRDQAAAAIDFBENAAAAAgMUEQ0AAAACAxQRDQAAAAIDFBENAAAAAgMUEQ0AAAACAxQRDQAAAAIDFBENAAAAAgMUEQ0AAAACAxQRDQAAAAIDFBENAAAAAgMUEQ0AAAACAxQRDQAAAAIDFBENAAAAAgMUEQ0AAAACAxQRDQAAAAIDFBENAAAAAACjuQUAAAAAAKO5BQAAAAAAo7kFAAAAAACjuQUAAAABA5PRAQAAAAEDk9EBAAAAAQOT0QEAAAABA5PRAQAAAAEDk9EBAAAAAQOT0QEAAAABA5PRAQAAAAEDk9EBAAAAAANWBP0AAAADgnnc/QAAAAOCedz9AAAAAQPoCP0AAAABA+gI/QAAAAED6Aj9AAAAAQPoCP0AAAABA+gI/QAAAAED6Aj9AAAAAQPoCP0AAAABA+gI/QAAAAED6Aj9AAAAAQPoCP0AAAABA+gI/QAAAAED6Aj9AAAAAQPoCP0AAAABA+gI/QAAAAED6Aj9AAAAAQPoCP0AAAABA+gI/QAAAAED6Aj9AAAAAQPoCP0AAAABA+gI/QAAAAED6Aj9AAAAAQPoCP0AAAABA+gI/QAAAAED6Aj9AAAAAQPoCP0AAAABA+gI/QAAAAED6Aj9AAAAAQPoCP0AAAABA+gI/QAAAAED6Aj9AAAAAQPoCP0AAAABA+gI/QAAAAED6Aj9AAAAAQPoCP0AAAABA+gI/QAAAAED6Aj9AAAAAQPoCP0AAAABA+gI/QAAAAED6Aj9AAAAAQPoCP0AAAABA+gI/QAAAAED6Aj9AAAAAQPoCP0AAAABA+gI/QAAAAED6Aj9AAAAAQPoCP0AAAADA3Dk8QAAAAGD4kTRAAAAAYPiRNEAAAABg+JE0QAAAAGD4kTRAAAAAYPiRNEAAAABg+JE0QAAAAGD4kTRAAAAAYPiRNEAAAAAgx+gkQAAAACDH6CRAAAAAIMfoJEAAAAAgx+gkQAAAACDH6CRAAAAAIMfoJEAAAAAgx+gkQAAAACDH6CRAAAAAIMfoJEAAAACAxQRDQAAAAIDFBENAAAAAgMUEQ0AAAACAxQRDQAAAAIDFBENAAAAAgMUEQ0AAAACAxQRDQAAAAIDFBENAAAAAgMUEQ0AAAACAxQRDQAAAAIDFBENAAAAAgMUEQ0AAAACAxQRDQAAAAIDFBENAAAAAgMUEQ0AAAACAxQRDQAAAAIDFBENAAAAAgMUEQ0AAAACAxQRDQAAAAIDFBENAAAAAgMUEQ0AAAACAxQRDQAAAAAAo7kFAAAAAACjuQUAAAAAAKO5BQAAAAAAo7kFAAAAAQOT0QEAAAABA5PRAQAAAAEDk9EBAAAAAQOT0QEAAAABA5PRAQAAAAEDk9EBAAAAAQOT0QEAAAABA5PRAQAAAAADVgT9AAAAA4J53P0AAAADgnnc/QAAAAED6Aj9AAAAAQPoCP0AAAABA+gI/QAAAAED6Aj9AAAAAQPoCP0AAAABA+gI/QAAAAED6Aj9AAAAAQPoCP0AAAABA+gI/QAAAAED6Aj9AAAAAQPoCP0AAAABA+gI/QAAAAED6Aj9AAAAAQPoCP0AAAABA+gI/QAAAAED6Aj9AAAAAQPoCP0AAAABA+gI/QAAAAED6Aj9AAAAAQPoCP0AAAABA+gI/QAAAAED6Aj9AAAAAQPoCP0AAAABA+gI/QAAAAED6Aj9AAAAAQPoCP0AAAABA+gI/QAAAAED6Aj9AAAAAQPoCP0AAAABA+gI/QAAAAED6Aj9AAAAAQPoCP0AAAABA+gI/QAAAAED6Aj9AAAAAQPoCP0AAAABA+gI/QAAAAED6Aj9AAAAAQPoCP0AAAABA+gI/QAAAAED6Aj9AAAAAQPoCP0AAAABA+gI/QAAAAED6Aj9AAAAAQPoCP0AAAABA+gI/QAAAAED6Aj9AAAAAwNw5PEAAAABg+JE0QAAAAGD4kTRAAAAAYPiRNEAAAABg+JE0QAAAAGD4kTRAAAAAYPiRNEAAAABg+JE0QAAAAGD4kTRAAAAAIMfoJEAAAAAgx+gkQAAAACDH6CRAAAAAIMfoJEAAAAAgx+gkQAAAACDH6CRAAAAAIMfoJEAAAAAgx+gkQAAAACDH6CRAAAAAgMUEQ0AAAACAxQRDQAAAAIDFBENAAAAAgMUEQ0AAAACAxQRDQAAAAIDFBENAAAAAgMUEQ0AAAACAxQRDQAAAAIDFBENAAAAAgMUEQ0AAAACAxQRDQAAAAIDFBENAAAAAgMUEQ0AAAACAxQRDQAAAAIDFBENAAAAAgMUEQ0AAAACAxQRDQAAAAIDFBENAAAAAgMUEQ0AAAACAxQRDQAAAAIDFBENAAAAAgMUEQ0AAAAAAKO5BQAAAAAAo7kFAAAAAACjuQUAAAAAAKO5BQAAAAEDk9EBAAAAAQOT0QEAAAABA5PRAQAAAAEDk9EBAAAAAQOT0QEAAAABA5PRAQAAAAEDk9EBAAAAAQOT0QEAAAAAA1YE/QAAAAOCedz9AAAAA4J53P0AAAABA+gI/QAAAAED6Aj9AAAAAQPoCP0AAAABA+gI/QAAAAED6Aj9AAAAAQPoCP0AAAABA+gI/QAAAAED6Aj9AAAAAQPoCP0AAAABA+gI/QAAAAED6Aj9AAAAAQPoCP0AAAABA+gI/QAAAAED6Aj9AAAAAQPoCP0AAAABA+gI/QAAAAED6Aj9AAAAAQPoCP0AAAABA+gI/QAAAAED6Aj9AAAAAQPoCP0AAAABA+gI/QAAAAED6Aj9AAAAAQPoCP0AAAABA+gI/QAAAAED6Aj9AAAAAQPoCP0AAAABA+gI/QAAAAED6Aj9AAAAAQPoCP0AAAABA+gI/QAAAAED6Aj9AAAAAQPoCP0AAAABA+gI/QAAAAED6Aj9AAAAAQPoCP0AAAABA+gI/QAAAAED6Aj9AAAAAQPoCP0AAAABA+gI/QAAAAED6Aj9AAAAAQPoCP0AAAABA+gI/QAAAAED6Aj9AAAAAQPoCP0AAAABA+gI/QAAAAMDcOTxAAAAAYPiRNEAAAABg+JE0QAAAAGD4kTRAAAAAYPiRNEAAAABg+JE0QAAAAGD4kTRAAAAAYPiRNEAAAABg+JE0QAAAACDH6CRAAAAAIMfoJEAAAAAgx+gkQAAAACDH6CRAAAAAIMfoJEAAAAAgx+gkQAAAACDH6CRAAAAAIMfoJEAAAAAgx+gkQA==",
          "dtype": "f8"
         }
        },
        {
         "line": {
          "color": "orange"
         },
         "mode": "lines",
         "name": "Test",
         "type": "scatter",
         "y": {
          "bdata": "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",
          "dtype": "f8"
         }
        }
       ],
       "layout": {
        "height": 400,
        "margin": {
         "t": 50
        },
        "template": {
         "data": {
          "bar": [
           {
            "error_x": {
             "color": "#2a3f5f"
            },
            "error_y": {
             "color": "#2a3f5f"
            },
            "marker": {
             "line": {
              "color": "#E5ECF6",
              "width": 0.5
             },
             "pattern": {
              "fillmode": "overlay",
              "size": 10,
              "solidity": 0.2
             }
            },
            "type": "bar"
           }
          ],
          "barpolar": [
           {
            "marker": {
             "line": {
              "color": "#E5ECF6",
              "width": 0.5
             },
             "pattern": {
              "fillmode": "overlay",
              "size": 10,
              "solidity": 0.2
             }
            },
            "type": "barpolar"
           }
          ],
          "carpet": [
           {
            "aaxis": {
             "endlinecolor": "#2a3f5f",
             "gridcolor": "white",
             "linecolor": "white",
             "minorgridcolor": "white",
             "startlinecolor": "#2a3f5f"
            },
            "baxis": {
             "endlinecolor": "#2a3f5f",
             "gridcolor": "white",
             "linecolor": "white",
             "minorgridcolor": "white",
             "startlinecolor": "#2a3f5f"
            },
            "type": "carpet"
           }
          ],
          "choropleth": [
           {
            "colorbar": {
             "outlinewidth": 0,
             "ticks": ""
            },
            "type": "choropleth"
           }
          ],
          "contour": [
           {
            "colorbar": {
             "outlinewidth": 0,
             "ticks": ""
            },
            "colorscale": [
             [
              0,
              "#0d0887"
             ],
             [
              0.1111111111111111,
              "#46039f"
             ],
             [
              0.2222222222222222,
              "#7201a8"
             ],
             [
              0.3333333333333333,
              "#9c179e"
             ],
             [
              0.4444444444444444,
              "#bd3786"
             ],
             [
              0.5555555555555556,
              "#d8576b"
             ],
             [
              0.6666666666666666,
              "#ed7953"
             ],
             [
              0.7777777777777778,
              "#fb9f3a"
             ],
             [
              0.8888888888888888,
              "#fdca26"
             ],
             [
              1,
              "#f0f921"
             ]
            ],
            "type": "contour"
           }
          ],
          "contourcarpet": [
           {
            "colorbar": {
             "outlinewidth": 0,
             "ticks": ""
            },
            "type": "contourcarpet"
           }
          ],
          "heatmap": [
           {
            "colorbar": {
             "outlinewidth": 0,
             "ticks": ""
            },
            "colorscale": [
             [
              0,
              "#0d0887"
             ],
             [
              0.1111111111111111,
              "#46039f"
             ],
             [
              0.2222222222222222,
              "#7201a8"
             ],
             [
              0.3333333333333333,
              "#9c179e"
             ],
             [
              0.4444444444444444,
              "#bd3786"
             ],
             [
              0.5555555555555556,
              "#d8576b"
             ],
             [
              0.6666666666666666,
              "#ed7953"
             ],
             [
              0.7777777777777778,
              "#fb9f3a"
             ],
             [
              0.8888888888888888,
              "#fdca26"
             ],
             [
              1,
              "#f0f921"
             ]
            ],
            "type": "heatmap"
           }
          ],
          "histogram": [
           {
            "marker": {
             "pattern": {
              "fillmode": "overlay",
              "size": 10,
              "solidity": 0.2
             }
            },
            "type": "histogram"
           }
          ],
          "histogram2d": [
           {
            "colorbar": {
             "outlinewidth": 0,
             "ticks": ""
            },
            "colorscale": [
             [
              0,
              "#0d0887"
             ],
             [
              0.1111111111111111,
              "#46039f"
             ],
             [
              0.2222222222222222,
              "#7201a8"
             ],
             [
              0.3333333333333333,
              "#9c179e"
             ],
             [
              0.4444444444444444,
              "#bd3786"
             ],
             [
              0.5555555555555556,
              "#d8576b"
             ],
             [
              0.6666666666666666,
              "#ed7953"
             ],
             [
              0.7777777777777778,
              "#fb9f3a"
             ],
             [
              0.8888888888888888,
              "#fdca26"
             ],
             [
              1,
              "#f0f921"
             ]
            ],
            "type": "histogram2d"
           }
          ],
          "histogram2dcontour": [
           {
            "colorbar": {
             "outlinewidth": 0,
             "ticks": ""
            },
            "colorscale": [
             [
              0,
              "#0d0887"
             ],
             [
              0.1111111111111111,
              "#46039f"
             ],
             [
              0.2222222222222222,
              "#7201a8"
             ],
             [
              0.3333333333333333,
              "#9c179e"
             ],
             [
              0.4444444444444444,
              "#bd3786"
             ],
             [
              0.5555555555555556,
              "#d8576b"
             ],
             [
              0.6666666666666666,
              "#ed7953"
             ],
             [
              0.7777777777777778,
              "#fb9f3a"
             ],
             [
              0.8888888888888888,
              "#fdca26"
             ],
             [
              1,
              "#f0f921"
             ]
            ],
            "type": "histogram2dcontour"
           }
          ],
          "mesh3d": [
           {
            "colorbar": {
             "outlinewidth": 0,
             "ticks": ""
            },
            "type": "mesh3d"
           }
          ],
          "parcoords": [
           {
            "line": {
             "colorbar": {
              "outlinewidth": 0,
              "ticks": ""
             }
            },
            "type": "parcoords"
           }
          ],
          "pie": [
           {
            "automargin": true,
            "type": "pie"
           }
          ],
          "scatter": [
           {
            "fillpattern": {
             "fillmode": "overlay",
             "size": 10,
             "solidity": 0.2
            },
            "type": "scatter"
           }
          ],
          "scatter3d": [
           {
            "line": {
             "colorbar": {
              "outlinewidth": 0,
              "ticks": ""
             }
            },
            "marker": {
             "colorbar": {
              "outlinewidth": 0,
              "ticks": ""
             }
            },
            "type": "scatter3d"
           }
          ],
          "scattercarpet": [
           {
            "marker": {
             "colorbar": {
              "outlinewidth": 0,
              "ticks": ""
             }
            },
            "type": "scattercarpet"
           }
          ],
          "scattergeo": [
           {
            "marker": {
             "colorbar": {
              "outlinewidth": 0,
              "ticks": ""
             }
            },
            "type": "scattergeo"
           }
          ],
          "scattergl": [
           {
            "marker": {
             "colorbar": {
              "outlinewidth": 0,
              "ticks": ""
             }
            },
            "type": "scattergl"
           }
          ],
          "scattermap": [
           {
            "marker": {
             "colorbar": {
              "outlinewidth": 0,
              "ticks": ""
             }
            },
            "type": "scattermap"
           }
          ],
          "scattermapbox": [
           {
            "marker": {
             "colorbar": {
              "outlinewidth": 0,
              "ticks": ""
             }
            },
            "type": "scattermapbox"
           }
          ],
          "scatterpolar": [
           {
            "marker": {
             "colorbar": {
              "outlinewidth": 0,
              "ticks": ""
             }
            },
            "type": "scatterpolar"
           }
          ],
          "scatterpolargl": [
           {
            "marker": {
             "colorbar": {
              "outlinewidth": 0,
              "ticks": ""
             }
            },
            "type": "scatterpolargl"
           }
          ],
          "scatterternary": [
           {
            "marker": {
             "colorbar": {
              "outlinewidth": 0,
              "ticks": ""
             }
            },
            "type": "scatterternary"
           }
          ],
          "surface": [
           {
            "colorbar": {
             "outlinewidth": 0,
             "ticks": ""
            },
            "colorscale": [
             [
              0,
              "#0d0887"
             ],
             [
              0.1111111111111111,
              "#46039f"
             ],
             [
              0.2222222222222222,
              "#7201a8"
             ],
             [
              0.3333333333333333,
              "#9c179e"
             ],
             [
              0.4444444444444444,
              "#bd3786"
             ],
             [
              0.5555555555555556,
              "#d8576b"
             ],
             [
              0.6666666666666666,
              "#ed7953"
             ],
             [
              0.7777777777777778,
              "#fb9f3a"
             ],
             [
              0.8888888888888888,
              "#fdca26"
             ],
             [
              1,
              "#f0f921"
             ]
            ],
            "type": "surface"
           }
          ],
          "table": [
           {
            "cells": {
             "fill": {
              "color": "#EBF0F8"
             },
             "line": {
              "color": "white"
             }
            },
            "header": {
             "fill": {
              "color": "#C8D4E3"
             },
             "line": {
              "color": "white"
             }
            },
            "type": "table"
           }
          ]
         },
         "layout": {
          "annotationdefaults": {
           "arrowcolor": "#2a3f5f",
           "arrowhead": 0,
           "arrowwidth": 1
          },
          "autotypenumbers": "strict",
          "coloraxis": {
           "colorbar": {
            "outlinewidth": 0,
            "ticks": ""
           }
          },
          "colorscale": {
           "diverging": [
            [
             0,
             "#8e0152"
            ],
            [
             0.1,
             "#c51b7d"
            ],
            [
             0.2,
             "#de77ae"
            ],
            [
             0.3,
             "#f1b6da"
            ],
            [
             0.4,
             "#fde0ef"
            ],
            [
             0.5,
             "#f7f7f7"
            ],
            [
             0.6,
             "#e6f5d0"
            ],
            [
             0.7,
             "#b8e186"
            ],
            [
             0.8,
             "#7fbc41"
            ],
            [
             0.9,
             "#4d9221"
            ],
            [
             1,
             "#276419"
            ]
           ],
           "sequential": [
            [
             0,
             "#0d0887"
            ],
            [
             0.1111111111111111,
             "#46039f"
            ],
            [
             0.2222222222222222,
             "#7201a8"
            ],
            [
             0.3333333333333333,
             "#9c179e"
            ],
            [
             0.4444444444444444,
             "#bd3786"
            ],
            [
             0.5555555555555556,
             "#d8576b"
            ],
            [
             0.6666666666666666,
             "#ed7953"
            ],
            [
             0.7777777777777778,
             "#fb9f3a"
            ],
            [
             0.8888888888888888,
             "#fdca26"
            ],
            [
             1,
             "#f0f921"
            ]
           ],
           "sequentialminus": [
            [
             0,
             "#0d0887"
            ],
            [
             0.1111111111111111,
             "#46039f"
            ],
            [
             0.2222222222222222,
             "#7201a8"
            ],
            [
             0.3333333333333333,
             "#9c179e"
            ],
            [
             0.4444444444444444,
             "#bd3786"
            ],
            [
             0.5555555555555556,
             "#d8576b"
            ],
            [
             0.6666666666666666,
             "#ed7953"
            ],
            [
             0.7777777777777778,
             "#fb9f3a"
            ],
            [
             0.8888888888888888,
             "#fdca26"
            ],
            [
             1,
             "#f0f921"
            ]
           ]
          },
          "colorway": [
           "#636efa",
           "#EF553B",
           "#00cc96",
           "#ab63fa",
           "#FFA15A",
           "#19d3f3",
           "#FF6692",
           "#B6E880",
           "#FF97FF",
           "#FECB52"
          ],
          "font": {
           "color": "#2a3f5f"
          },
          "geo": {
           "bgcolor": "white",
           "lakecolor": "white",
           "landcolor": "#E5ECF6",
           "showlakes": true,
           "showland": true,
           "subunitcolor": "white"
          },
          "hoverlabel": {
           "align": "left"
          },
          "hovermode": "closest",
          "mapbox": {
           "style": "light"
          },
          "paper_bgcolor": "white",
          "plot_bgcolor": "#E5ECF6",
          "polar": {
           "angularaxis": {
            "gridcolor": "white",
            "linecolor": "white",
            "ticks": ""
           },
           "bgcolor": "#E5ECF6",
           "radialaxis": {
            "gridcolor": "white",
            "linecolor": "white",
            "ticks": ""
           }
          },
          "scene": {
           "xaxis": {
            "backgroundcolor": "#E5ECF6",
            "gridcolor": "white",
            "gridwidth": 2,
            "linecolor": "white",
            "showbackground": true,
            "ticks": "",
            "zerolinecolor": "white"
           },
           "yaxis": {
            "backgroundcolor": "#E5ECF6",
            "gridcolor": "white",
            "gridwidth": 2,
            "linecolor": "white",
            "showbackground": true,
            "ticks": "",
            "zerolinecolor": "white"
           },
           "zaxis": {
            "backgroundcolor": "#E5ECF6",
            "gridcolor": "white",
            "gridwidth": 2,
            "linecolor": "white",
            "showbackground": true,
            "ticks": "",
            "zerolinecolor": "white"
           }
          },
          "shapedefaults": {
           "line": {
            "color": "#2a3f5f"
           }
          },
          "ternary": {
           "aaxis": {
            "gridcolor": "white",
            "linecolor": "white",
            "ticks": ""
           },
           "baxis": {
            "gridcolor": "white",
            "linecolor": "white",
            "ticks": ""
           },
           "bgcolor": "#E5ECF6",
           "caxis": {
            "gridcolor": "white",
            "linecolor": "white",
            "ticks": ""
           }
          },
          "title": {
           "x": 0.05
          },
          "xaxis": {
           "automargin": true,
           "gridcolor": "white",
           "linecolor": "white",
           "ticks": "",
           "title": {
            "standoff": 15
           },
           "zerolinecolor": "white",
           "zerolinewidth": 2
          },
          "yaxis": {
           "automargin": true,
           "gridcolor": "white",
           "linecolor": "white",
           "ticks": "",
           "title": {
            "standoff": 15
           },
           "zerolinecolor": "white",
           "zerolinewidth": 2
          }
         }
        },
        "title": {
         "text": "GP - Train vs Test Fitness (airfoil dataset)"
        },
        "width": 800,
        "xaxis": {
         "title": {
          "text": "Generation"
         }
        },
        "yaxis": {
         "range": [
          0,
          null
         ],
         "title": {
          "text": "RMSE"
         }
        }
       }
      },
      "image/png": "[encoded data removed]"
     },
     "metadata": {},
     "output_type": "display_data"
    }
   ],
   "source": [
    "train_color = 'blue'\n",
    "test_color = 'orange'\n",
    "\n",
    "fig = go.Figure()\n",
    "fig.add_trace(go.Scatter(y=pd.read_csv(local_var[\"log_path\"], header=None).iloc[:, 5].values,\n",
    "                         mode='lines', name='Train', line=dict(color=train_color)))\n",
    "fig.add_trace(go.Scatter(y=pd.read_csv(local_var[\"log_path\"], header=None).iloc[:, 8].values,\n",
    "                         mode='lines', name='Test', line=dict(color=test_color)))\n",
    "fig.update_layout(\n",
    "    height=400, width=800,\n",
    "    margin=dict(t=50),\n",
    "    yaxis_range=[0, None],\n",
    "    title_text='GP - Train vs Test Fitness (' + local_var[\"dataset_name\"] + ' dataset)',\n",
    "    xaxis_title='Generation', yaxis_title='RMSE'\n",
    ")\n",
    "fig.update_yaxes(range=[0, None])\n",
    "fig.show()"
   ]
  },
  {
   "cell_type": "code",
   "execution_count": null,
   "id": "d188bef4-b263-4237-a152-1e86f94521b8",
   "metadata": {},
   "outputs": [],
   "source": []
  }
 ],
 "metadata": {
  "kernelspec": {
   "display_name": "Python 3 (ipykernel)",
   "language": "python",
   "name": "python3"
  },
  "language_info": {
   "codemirror_mode": {
    "name": "ipython",
    "version": 3
   },
   "file_extension": ".py",
   "mimetype": "text/x-python",
   "name": "python",
   "nbconvert_exporter": "python",
   "pygments_lexer": "ipython3",
   "version": "3.12.1"
  }
 },
 "nbformat": 4,
 "nbformat_minor": 5
}
